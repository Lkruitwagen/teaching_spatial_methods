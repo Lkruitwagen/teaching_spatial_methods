{
  "nbformat": 4,
  "nbformat_minor": 0,
  "metadata": {
    "colab": {
      "name": "spatial_data_analysis_with_python.ipynb",
      "provenance": [],
      "toc_visible": true
    },
    "kernelspec": {
      "name": "python3",
      "display_name": "Python 3"
    },
    "language_info": {
      "name": "python"
    },
    "widgets": {
      "application/vnd.jupyter.widget-state+json": {
        "ca243bc109e8450687c78b6f2089f7ef": {
          "model_module": "jupyter-leaflet",
          "model_name": "LeafletMapModel",
          "model_module_version": "^0.14.0",
          "state": {
            "_view_name": "LeafletMapView",
            "keyboard_pan_offset": 80,
            "right": 521370,
            "tap": true,
            "_view_module": "jupyter-leaflet",
            "max_zoom": 18,
            "_model_module_version": "^0.14.0",
            "_view_count": null,
            "zoom_snap": 1,
            "min_zoom": 1,
            "bounce_at_zoom_limits": true,
            "keyboard": true,
            "north": 51.79439021006285,
            "scroll_wheel_zoom": false,
            "dragging": true,
            "_model_module": "jupyter-leaflet",
            "zoom_delta": 1,
            "close_popup_on_click": true,
            "fullscreen": false,
            "style": "IPY_MODEL_347da9fd71ee443cac091538119dc19a",
            "layout": "IPY_MODEL_4813b41365964a249c6de6b90f489926",
            "bottom": 347731,
            "inertia_max_speed": 1500,
            "top": 347331,
            "box_zoom": true,
            "controls": [
              "IPY_MODEL_b1527ddbc6dc47fba26f9ead40c57041",
              "IPY_MODEL_8697dc985d1d468a9963a70407bdc66e"
            ],
            "default_style": "IPY_MODEL_15bc6776b90a4cf0adb34430cc8ea4f0",
            "east": -1.0018157958984377,
            "double_click_zoom": true,
            "interpolation": "bilinear",
            "layers": [
              "IPY_MODEL_7a2e71eb92544bfda7fccb989550ed92",
              "IPY_MODEL_cbb08c5865f94230b9d8b48ee3c8c907"
            ],
            "dragging_style": "IPY_MODEL_2288e03e486c42e78dd5aab0a3b98209",
            "_dom_classes": [],
            "zoom_animation_threshold": 4,
            "_model_name": "LeafletMapModel",
            "zoom_start": 12,
            "modisdate": "yesterday",
            "keyboard_zoom_offset": 1,
            "inertia_deceleration": 3000,
            "inertia": true,
            "crs": {
              "name": "EPSG3857",
              "custom": false
            },
            "center": [
              51.751905,
              -1.257935
            ],
            "zoom": 12,
            "world_copy_jump": false,
            "_view_module_version": "^0.14.0",
            "window_url": "https://uwxe1b63nd-496ff2e9c6d22116-0-colab.googleusercontent.com/outputframe.html?vrz=colab-20211104-060059-RC00_407543951",
            "tap_tolerance": 15,
            "west": -1.514396667480469,
            "touch_zoom": true,
            "options": [
              "bounce_at_zoom_limits",
              "box_zoom",
              "center",
              "close_popup_on_click",
              "double_click_zoom",
              "dragging",
              "fullscreen",
              "inertia",
              "inertia_deceleration",
              "inertia_max_speed",
              "interpolation",
              "keyboard",
              "keyboard_pan_offset",
              "keyboard_zoom_offset",
              "max_zoom",
              "min_zoom",
              "scroll_wheel_zoom",
              "tap",
              "tap_tolerance",
              "touch_zoom",
              "world_copy_jump",
              "zoom",
              "zoom_animation_threshold",
              "zoom_delta",
              "zoom_snap",
              "zoom_start"
            ],
            "south": 51.709374169982745,
            "left": 519877
          }
        },
        "347da9fd71ee443cac091538119dc19a": {
          "model_module": "jupyter-leaflet",
          "model_name": "LeafletMapStyleModel",
          "model_module_version": "^0.14.0",
          "state": {
            "_view_name": "StyleView",
            "_model_name": "LeafletMapStyleModel",
            "_view_module": "@jupyter-widgets/base",
            "_model_module_version": "^0.14.0",
            "_view_count": null,
            "cursor": "grab",
            "_view_module_version": "1.2.0",
            "_model_module": "jupyter-leaflet"
          }
        },
        "4813b41365964a249c6de6b90f489926": {
          "model_module": "@jupyter-widgets/base",
          "model_name": "LayoutModel",
          "model_module_version": "1.2.0",
          "state": {
            "_view_name": "LayoutView",
            "grid_template_rows": null,
            "right": null,
            "justify_content": null,
            "_view_module": "@jupyter-widgets/base",
            "overflow": null,
            "_model_module_version": "1.2.0",
            "_view_count": null,
            "flex_flow": null,
            "width": null,
            "min_width": null,
            "border": null,
            "align_items": null,
            "bottom": null,
            "_model_module": "@jupyter-widgets/base",
            "top": null,
            "grid_column": null,
            "overflow_y": null,
            "overflow_x": null,
            "grid_auto_flow": null,
            "grid_area": null,
            "grid_template_columns": null,
            "flex": null,
            "_model_name": "LayoutModel",
            "justify_items": null,
            "grid_row": null,
            "max_height": null,
            "align_content": null,
            "visibility": null,
            "align_self": null,
            "height": null,
            "min_height": null,
            "padding": null,
            "grid_auto_rows": null,
            "grid_gap": null,
            "max_width": null,
            "order": null,
            "_view_module_version": "1.2.0",
            "grid_template_areas": null,
            "object_position": null,
            "object_fit": null,
            "grid_auto_columns": null,
            "margin": null,
            "display": null,
            "left": null
          }
        },
        "b1527ddbc6dc47fba26f9ead40c57041": {
          "model_module": "jupyter-leaflet",
          "model_name": "LeafletZoomControlModel",
          "model_module_version": "^0.14.0",
          "state": {
            "_view_name": "LeafletZoomControlView",
            "zoom_in_title": "Zoom in",
            "_model_name": "LeafletZoomControlModel",
            "_view_module": "jupyter-leaflet",
            "_model_module_version": "^0.14.0",
            "_view_count": null,
            "_view_module_version": "^0.14.0",
            "zoom_out_title": "Zoom out",
            "position": "topleft",
            "zoom_in_text": "+",
            "_model_module": "jupyter-leaflet",
            "options": [
              "position",
              "zoom_in_text",
              "zoom_in_title",
              "zoom_out_text",
              "zoom_out_title"
            ],
            "zoom_out_text": "-"
          }
        },
        "8697dc985d1d468a9963a70407bdc66e": {
          "model_module": "jupyter-leaflet",
          "model_name": "LeafletAttributionControlModel",
          "model_module_version": "^0.14.0",
          "state": {
            "_view_name": "LeafletAttributionControlView",
            "prefix": "ipyleaflet",
            "_model_name": "LeafletAttributionControlModel",
            "_view_module": "jupyter-leaflet",
            "_model_module_version": "^0.14.0",
            "_view_count": null,
            "_view_module_version": "^0.14.0",
            "position": "bottomright",
            "_model_module": "jupyter-leaflet",
            "options": [
              "position",
              "prefix"
            ]
          }
        },
        "15bc6776b90a4cf0adb34430cc8ea4f0": {
          "model_module": "jupyter-leaflet",
          "model_name": "LeafletMapStyleModel",
          "model_module_version": "^0.14.0",
          "state": {
            "_view_name": "StyleView",
            "_model_name": "LeafletMapStyleModel",
            "_view_module": "@jupyter-widgets/base",
            "_model_module_version": "^0.14.0",
            "_view_count": null,
            "cursor": "grab",
            "_view_module_version": "1.2.0",
            "_model_module": "jupyter-leaflet"
          }
        },
        "7a2e71eb92544bfda7fccb989550ed92": {
          "model_module": "jupyter-leaflet",
          "model_name": "LeafletTileLayerModel",
          "model_module_version": "^0.14.0",
          "state": {
            "_view_name": "LeafletTileLayerView",
            "_view_module": "jupyter-leaflet",
            "max_zoom": 19,
            "_model_module_version": "^0.14.0",
            "_view_count": null,
            "visible": true,
            "min_zoom": 1,
            "tms": false,
            "_model_module": "jupyter-leaflet",
            "loading": false,
            "bottom": true,
            "no_wrap": false,
            "tile_size": 256,
            "popup_min_width": 50,
            "opacity": 1,
            "popup": null,
            "attribution": "Map data (c) <a href=\"https://openstreetmap.org\">OpenStreetMap</a> contributors",
            "_model_name": "LeafletTileLayerModel",
            "max_native_zoom": 18,
            "base": true,
            "min_native_zoom": 0,
            "show_loading": false,
            "name": "OpenStreetMap.Mapnik",
            "url": "https://{s}.tile.openstreetmap.org/{z}/{x}/{y}.png",
            "popup_max_height": null,
            "popup_max_width": 300,
            "detect_retina": false,
            "_view_module_version": "^0.14.0",
            "options": [
              "attribution",
              "detect_retina",
              "max_native_zoom",
              "max_zoom",
              "min_native_zoom",
              "min_zoom",
              "no_wrap",
              "tile_size",
              "tms"
            ]
          }
        },
        "cbb08c5865f94230b9d8b48ee3c8c907": {
          "model_module": "jupyter-leaflet",
          "model_name": "LeafletGeoJSONModel",
          "model_module_version": "^0.14.0",
          "state": {
            "_view_name": "LeafletGeoJSONView",
            "layers": [],
            "style": {},
            "bottom": false,
            "name": "latlon_addresses",
            "hover_style": {},
            "_model_name": "LeafletGeoJSONModel",
            "data": {
              "type": "FeatureCollection",
              "features": [
                {
                  "geometry": {
                    "type": "Point",
                    "coordinates": [
                      -1.257935,
                      51.751905
                    ]
                  },
                  "type": "Feature",
                  "id": "0",
                  "properties": {
                    "name": "Carfax"
                  }
                },
                {
                  "geometry": {
                    "type": "Point",
                    "coordinates": [
                      -1.270606,
                      51.76218
                    ]
                  },
                  "type": "Feature",
                  "id": "1",
                  "properties": {
                    "name": "Lucas' House"
                  }
                }
              ]
            },
            "popup_min_width": 50,
            "_view_module": "jupyter-leaflet",
            "_model_module_version": "^0.14.0",
            "_view_count": null,
            "_view_module_version": "^0.14.0",
            "base": false,
            "popup": null,
            "popup_max_width": 300,
            "popup_max_height": null,
            "point_style": {},
            "_model_module": "jupyter-leaflet",
            "options": []
          }
        },
        "2288e03e486c42e78dd5aab0a3b98209": {
          "model_module": "jupyter-leaflet",
          "model_name": "LeafletMapStyleModel",
          "model_module_version": "^0.14.0",
          "state": {
            "_view_name": "StyleView",
            "_model_name": "LeafletMapStyleModel",
            "_view_module": "@jupyter-widgets/base",
            "_model_module_version": "^0.14.0",
            "_view_count": null,
            "cursor": "move",
            "_view_module_version": "1.2.0",
            "_model_module": "jupyter-leaflet"
          }
        }
      }
    }
  },
  "cells": [
    {
      "cell_type": "markdown",
      "metadata": {
        "id": "VIx8N4PyH7Qk"
      },
      "source": [
        "# Spatial Data Analysis with Python\n",
        "\n",
        "### MSc in SEE \n",
        "\n",
        "Lucas Kruitwagen\n",
        "\n",
        "2021-11-17 11:00 & 16:00\n",
        "\n",
        "Lucas.Kruitwagen@smithschool.ox.ac.uk\n",
        "\n",
        "@lucaskruitwagen\n",
        "\n",
        "https://github.com/Lkruitwagen"
      ]
    },
    {
      "cell_type": "markdown",
      "metadata": {
        "id": "_BOWiCwkoqZZ"
      },
      "source": [
        "#### About me\n",
        "\n",
        "- DPhil Geography and the Environment\n",
        "- Research Associate UK CGFI, Sustainable Finance Group\n",
        "- Frontier Development Lab, Team Lead\n",
        "- Cofounder www.oxfordeo.com\n",
        "\n",
        "Recent work:\n",
        "\n",
        "<img src=\"https://raw.githubusercontent.com/Lkruitwagen/teaching_spatial_methods/main/assets/solar_pv_twitter.jpeg\" alt=\"drawing\" style=\"display:inline\" width=\"800\"></img>\n",
        "\n",
        "<sub>[[1](https://www.nature.com/articles/s41586-021-03957-7)]:Kruitwagen, L., Story, K.T., Friedrich, J., Byers, L., Skillman, S., & Hepburn, C. (2021) _Nature_: **598** 604: 610</sub>"
      ]
    },
    {
      "cell_type": "markdown",
      "metadata": {
        "id": "ZhAxbgsrc5Ta"
      },
      "source": [
        "# Motivation"
      ]
    },
    {
      "cell_type": "markdown",
      "metadata": {
        "id": "MOAIc7DBdRFA"
      },
      "source": [
        "What is spatial analysis? Why do we care?\n",
        "\n",
        "Spatial dependence has been observed across the social sciences: anthropology, demography, political science, sociology, public health, economics.\n",
        "\n",
        "If geography is the \"why and how of where\" we need a suite of methods that allows us to answer \"why and how\" questions empirically.\n",
        "\n",
        "This module will introduce the tools and methods for empirical geography, and indeed the spatial methods used through all the social sciences.\n",
        "\n",
        "We're going to do this by working through examples using real data."
      ]
    },
    {
      "cell_type": "markdown",
      "metadata": {
        "id": "GH8qlJRltoXg"
      },
      "source": [
        "# Introduction: Neighbours, Diffusion, and Spatial Autocorrelation\n",
        "\n",
        "## Why is are spatial methods different than other statistical methods?\n",
        "\n"
      ]
    },
    {
      "cell_type": "markdown",
      "metadata": {
        "id": "dvG3elMzkWCs"
      },
      "source": [
        "Spatially-dependent processes can be observed across all of the social sciences and many physical sciences. \n",
        "\n",
        "Consider, for example, studies of the impacts of climate change on species distibutions; disease or virus diffusion; or social aspects of economic decision-making.\n",
        "\n",
        "| Species Distribution<sup>2</sup> | Public Health<sup>3</sup> | Econometric<sup>4</sup> |\n",
        "| -------------------- | ------------- | ----------- |\n",
        "| <img src=\"https://raw.githubusercontent.com/Lkruitwagen/teaching_spatial_methods/main/assets/species_map.png\" alt=\"drawing\" style=\"display:inline\" width=\"800\"></img>     | <img src=\"https://raw.githubusercontent.com/Lkruitwagen/teaching_spatial_methods/main/assets/covid_19_outbreaks.gif\" alt=\"drawing\" style=\"display:inline\" width=\"800\"></img>          | <img src=\"https://raw.githubusercontent.com/Lkruitwagen/teaching_spatial_methods/main/assets/rooftop_pv_census.png\" alt=\"drawing\" style=\"display:inline\" width=\"800\"></img>       |\n",
        "\n",
        "We seek to statistically model *spatial processes*, so we can isolate the mechanisms that give rise to our dependent variable of interest, and design interventions which optimally intervene to create better outcomes.\n",
        "\n",
        "<sub>[[2](https://nca2014.globalchange.gov/downloads)]:Pryor, S.C., Scavia, D., Downer, C.W., & Gagden, M. (2014) Chapter 18: Midwest in _2014 National Climate Assessment_: </sub>\n",
        "\n",
        "<sub>[[3](https://thefern.org/2020/04/mapping-covid-19-in-meat-and-food-processing-plants/)]:Douglas, L. (2020) Mapping Covid-19 outbreaks in the food system, _Food & Environment Reporting Network_</sub>\n",
        "\n",
        "<sub>[[4](https://www.nature.com/articles/s41893-018-0204-z)]:Sunter, D.A., Castellanos, S., & Kammen, D.M. (2019) Disparities in rooftop photovoltaics deployment in the United States by race and ethnicity, _Nature Sustainability_: **2** 71: 76</sub>"
      ]
    },
    {
      "cell_type": "markdown",
      "metadata": {
        "id": "u9vG63T705Wz"
      },
      "source": [
        "### The main challenge: Galton's problem (1888)\n",
        "\n",
        "Data sampled from a spatial process are not independent - they all have a relationship with each other via the mechanism of spatial proximity. So when making statistical estimates about the population, the analyst cannot deduce whether an external independent variable or the relationship between samples is responsible for the observed dependent variable.\n",
        "\n",
        "Spatial statistical methods must adjust for *diffusion* - that is, the likelihood of neighbouring units to adopt (usually) similar behaviour.\n",
        "\n"
      ]
    },
    {
      "cell_type": "markdown",
      "metadata": {
        "id": "NqOLhqjjBXz3"
      },
      "source": [
        "For example, what is more likely to cause me to put solar PV panels on my roof? Is it the fact that I have a lot of sun where I live? Or is it because my neighbour installed PV panels on their roof?"
      ]
    },
    {
      "cell_type": "markdown",
      "metadata": {
        "id": "OB4x8aSWb6ZP"
      },
      "source": [
        "<img src=\"https://raw.githubusercontent.com/Lkruitwagen/teaching_spatial_methods/main/assets/correlation.png\" alt=\"drawing\" style=\"display:inline\" width=\"800\"></img>"
      ]
    },
    {
      "cell_type": "markdown",
      "metadata": {
        "id": "OFP7sXi8cKRS"
      },
      "source": [
        "<img src=\"https://raw.githubusercontent.com/Lkruitwagen/teaching_spatial_methods/main/assets/diffusion.png\" alt=\"drawing\" style=\"display:inline\" width=\"800\"></img>"
      ]
    },
    {
      "cell_type": "markdown",
      "metadata": {
        "id": "986uhWkbcggV"
      },
      "source": [
        "In this specific example, in California in 2012, \"an additional installation increases the probability of an adoption in the zip code by 0.78 percentage points.\"<sup>5</sup>\n",
        "\n",
        "<sub>[[5](https://pubsonline.informs.org/doi/abs/10.1287/mksc.1120.0727?journalCode=mksc)]: Bollinger, B., & Gillingham, K. (2012) Peer Effects in the Diffusion of Solar Photovoltaic Panels, _Marketing Science_: **31**(6)</sub>"
      ]
    },
    {
      "cell_type": "markdown",
      "metadata": {
        "id": "Ei8ikcDfdO4L"
      },
      "source": [
        "With X as the independent variable solar irradiance, and Y as the dependent variable, my likelihood to install solar PV we have:\n",
        "\n",
        "Correlation only case:  Y ~ f(X)\n",
        "\n",
        "Correlation + Diffusion case:     Y ~ f(Y,X)\n",
        "\n",
        "Y is now _endogenous_, we have an autocorrelated model."
      ]
    },
    {
      "cell_type": "markdown",
      "metadata": {
        "id": "UbxGXE0qDMCS"
      },
      "source": [
        "### Spatial Autocorrelation"
      ]
    },
    {
      "cell_type": "markdown",
      "metadata": {
        "id": "qpW4Wc1xRX5I"
      },
      "source": [
        "Spatial autocorrelation is different from temporal autocorrelation.\n",
        "\n",
        "With temporal autocorrelation, our current dependent variable is correlated with a time-lagged copy of itself. \n",
        "\n",
        "Temporal autocorrelation: Y<sub>t</sub> ~ f(Y<sub>t-1</sub>, X)\n",
        "\n",
        "However given the nature of time, this correlation is one-directional; my actions today cannot impact my actions yesterday.\n",
        "\n",
        "With spatial autocorrelation, the diffusion effect is bi-directional; my choice of solar PV installation affects my neighbour's choice and vice-versa. They are also _simultaneous_, one not leading the other."
      ]
    },
    {
      "cell_type": "markdown",
      "metadata": {
        "id": "Qc2pyQTNhhm2"
      },
      "source": [
        "Spatial autocorrelation is easy to detect as a spatial clustering of data.\n",
        "\n",
        "<img src=\"https://raw.githubusercontent.com/Lkruitwagen/teaching_spatial_methods/main/assets/spatial_autocorrelation.jpg\" alt=\"drawing\" style=\"display:inline\" width=\"800\"></img>\n",
        "\n",
        "<sub>[[6](https://www.sciencedirect.com/science/article/pii/B9780124095489096809)]: Griffith, D.A., & Chun, Y. (2018) GIS and Spatial Statistics/Econometrics: An Overview in _Comprehensive Geographic Information Systems_, 1-26</sub>\n",
        "\n",
        "\n",
        "\n"
      ]
    },
    {
      "cell_type": "markdown",
      "metadata": {
        "id": "NI4oV4d0jUZQ"
      },
      "source": [
        "In less common cases, spatial autocorrelation can also be negative.\n",
        "\n",
        "<img src=\"https://raw.githubusercontent.com/Lkruitwagen/teaching_spatial_methods/main/assets/spatial_autocorrelation_2.png\" alt=\"drawing\" style=\"display:inline\" width=\"800\"></img>\n",
        "\n",
        "<sub>[[7](https://link.springer.com/article/10.1007/s00248-020-01608-4)]: Boraks, A., Plunkett, G.M., Doro, T.M., et al. (2020) _Microbial Ecology_, **81**: 874-883</sub>"
      ]
    },
    {
      "cell_type": "markdown",
      "metadata": {
        "id": "VItc0jxzjQ8_"
      },
      "source": [
        "If we are developing a spatial model, we want to test for spatial autocorrelation not in the dependent variable, as the independent variable might be spatially continuous, but in the error residuals, ϵ.\n",
        "\n",
        "Y = f(X) + ϵ"
      ]
    },
    {
      "cell_type": "markdown",
      "metadata": {
        "id": "9P1nXsgf1AIN"
      },
      "source": [
        "## Who are my neighbours?\n",
        "\n",
        "In spatial statistics, neighbours are data who have a strong spatial relationship. As we begin to specify a spatial model, we need to know which of our data are neighbours to test for the presence of diffusion."
      ]
    },
    {
      "cell_type": "markdown",
      "metadata": {
        "id": "Nwq2u90u1Bs1"
      },
      "source": [
        "E.g. in a chessboard 'gridworld' we can describe several spatial relationships which might constitute neighbours.\n",
        "\n",
        "\n",
        "<img src=\"https://raw.githubusercontent.com/Lkruitwagen/teaching_spatial_methods/main/assets/chessboard.png\" alt=\"drawing\" style=\"display:inline\" width=\"800\"></img>"
      ]
    },
    {
      "cell_type": "markdown",
      "metadata": {
        "id": "IriitVC4Dox3"
      },
      "source": [
        "Neighbour relationships can be weighted, can be any arbitrary function. A common example is a gaussian kernel (i.e. the shape of the normal distribution) distributed by distance. Also common is the inverse square distance.\n",
        "\n",
        "\n",
        "<img src=\"https://raw.githubusercontent.com/Lkruitwagen/teaching_spatial_methods/main/assets/gauss.png\" alt=\"drawing\" style=\"display:inline\" width=\"800\"></img>"
      ]
    },
    {
      "cell_type": "markdown",
      "metadata": {
        "id": "6Ci20Urs4MaO"
      },
      "source": [
        "Neighbours need not be drawn in a 'gridworld'. \n",
        "\n",
        "E.g. which london boroughs are neighbours to Hammersmith and Fulham?\n",
        "\n",
        "\n",
        "<img src=\"https://raw.githubusercontent.com/Lkruitwagen/teaching_spatial_methods/main/assets/london_boroughs.png\" alt=\"drawing\" style=\"display:inline\" width=\"800\"></img>"
      ]
    },
    {
      "cell_type": "markdown",
      "metadata": {
        "id": "Ers358wn4a3p"
      },
      "source": [
        "Neighbour relationships need not even be geospatial. These methods are useful for any spatially-arranged data, even data where the spatial arrangement is figurative or semantic, rather than literal.\n",
        "\n",
        "E.g.  here's how the US Senate voted in the 26th congress."
      ]
    },
    {
      "cell_type": "markdown",
      "metadata": {
        "id": "6atzivYRBTnM"
      },
      "source": [
        "<img src=\"https://raw.githubusercontent.com/Lkruitwagen/teaching_spatial_methods/main/assets/senate.png\" alt=\"drawing\" style=\"display:inline\" width=\"800\"></img>\n",
        "\n",
        "\"ten of the forty-two senators in this analysis exhibit spatially autocorrelated NOMINATE scores with their neighboring senators\"\n",
        "\n",
        "<sub>[[8](https://doi.org/10.1017/CBO9781139051293.005)]: Darmofal, D. (2015) _Spatial Analysis for the Social Sciences_, Cambridge University Press, with Finocchario, C.J. per Note 4</sub>\n"
      ]
    },
    {
      "cell_type": "markdown",
      "metadata": {
        "id": "AyCrU_QzRJL-"
      },
      "source": [
        "\"*everything is related to everything else, but near things are more related than distant things.*\" - Tobler's First Law of Geography"
      ]
    },
    {
      "cell_type": "markdown",
      "metadata": {
        "id": "0NifQXDc5G8R"
      },
      "source": [
        "\n",
        "<img src=\"https://raw.githubusercontent.com/Lkruitwagen/teaching_spatial_methods/main/assets/london_adjacency.png\" alt=\"drawing\" style=\"display:inline\" width=\"800\"></img>\n",
        "\n",
        "We can represent this spatial adjacency as a graph... welcome to complexity! "
      ]
    },
    {
      "cell_type": "markdown",
      "metadata": {
        "id": "ioTXeyeQJQec"
      },
      "source": [
        "# Contents\n",
        "\n",
        "*   [Introduction: Neighbours, Diffusion, and Spatial Autocorrelation](#Introduction-Neighbours-Diffusion-and-Spatial-Autocorrelation)\n",
        "*   [Tools and Setup](#tools)\n",
        "*   [Key Lesson 0: Map Projections](#Key-Lesson-0--Map-Projections)\n",
        "*   [Key Lesson 1: Modifiable Areal Unit Problem](#Key-Lesson-1--Modifiable-Areal-Unit-Problem)\n",
        "*   [Key Lesson 2: The Political Boundary Problem](#Key-Lesson-2--The-Political-Boundary-Problem)\n",
        "*   [Key Lesson 3: The Scale Problem](#Key-Lesson-3--The-Scale-Problem)\n",
        "*   [Key Lesson 4: Returning to Spatial Autocorrelation](#Key-Lesson-4--Returning-to-Spatial-Autocorrelation)\n",
        "*   [Tutorial 0: Vector data basics](#Tutorial-0--Vector-data-basics)\n",
        "*   [Tutorial 1: Reading, Analysis, and Writing Vector Data](#Tutorial-1--Reading--Analysis--and-Writing-Vector-Data)\n",
        "*   [Tutorial 2: Reading and Writing Raster Data](#Tutorial-2--Reading-and-Writing-Raster-Data)\n",
        "*   [Tutorial 3: Spatial Sampling](#Tutorial-3-Spatial-Joins)\n",
        "*   [Tutorial 4: Spatial Regression](#Tutorial-4--Spatial-Regression)"
      ]
    },
    {
      "cell_type": "markdown",
      "metadata": {
        "id": "6InLJa_O0hCb"
      },
      "source": [
        "# Tools\n",
        "<a id='tools'></a>\n",
        "\n",
        "### QGIS/ArcGIS\n",
        "\n",
        "Geospatial analysis tools which have full-featured user interfaces. Available across Linux, MacOS, Windows. Good for visualisation and for beginners with little/no programming knowledge.\n",
        "\n",
        "### Google Earth Engine\n",
        "\n",
        "Cloud-based geospatial analytics engine, with in-browser UI and javascript editor, and Python API. Great for visualisation and prototyping. Asynchronous cloud computation is challenging for beginners.\n",
        "\n",
        "### Matlab/R/Stata\n",
        "\n",
        "Statistics software / programming languages. R in particular is open source, with good spatial analysis library support.\n",
        "\n",
        "### Python\n",
        "\n",
        "\"The second-best language for everything.\" Incredible geospatial data science libraries, second only to R for spatial statistics libraries, but otherwise far more versitile and scalable to big data. The new lingua franca."
      ]
    },
    {
      "cell_type": "markdown",
      "metadata": {
        "id": "R8hSROucJQgf"
      },
      "source": [
        "# Python: Setup with Google Colab\n",
        "\n",
        "What's Colab? https://colab.research.google.com/ is a [Jupyter notebook](https://jupyter.org/) hosted by Google. It's an interactive Python environment that allows us to easily prototype and share code. For deep learning I can also easily connect a small GPU to my notebook instance. Being in the Google ecosystem means I can easily connect to Google services like Drive.\n",
        "\n",
        "What's so great about Juypter? Code is executed in 'cells' which means that the data stays in memory and I don't need to run a script from the start every time I change a small thing. It also allows me to conveniently write documentation in `Markdown`. "
      ]
    },
    {
      "cell_type": "markdown",
      "metadata": {
        "id": "KQn3sjO3QDmY"
      },
      "source": [
        "```Data Science Protip: Don't only code in Jupyter! You will get lost in your code and long notebooks are unreadable by others. Good practise is to prototype in Jupyter and then move your code to stable modules version-controlled using Git.```"
      ]
    },
    {
      "cell_type": "markdown",
      "metadata": {
        "id": "VKZErYj63ei4"
      },
      "source": [
        "#### Installation"
      ]
    },
    {
      "cell_type": "markdown",
      "metadata": {
        "id": "jGaj5XHGQBeY"
      },
      "source": [
        "Let's get started. To begin we install our requirements, a combination of linux packages installed with `apt install` and Python packages installed using `pip install`. The `!` indicates we want to use 'command-line magic'. Google Colab doesn't give us direct access to the Terminal, so we use command-line magic whenever we want to execute commandline tasks."
      ]
    },
    {
      "cell_type": "code",
      "metadata": {
        "id": "wJJGU0lbNjt6"
      },
      "source": [
        "# Installations\n",
        "!apt install gdal-bin python-gdal python3-gdal \n",
        "!pip install rasterio\n",
        "!apt install python3-rtree \n",
        "!pip install git+git://github.com/geopandas/geopandas.git\n",
        "!pip install descartes"
      ],
      "execution_count": null,
      "outputs": []
    },
    {
      "cell_type": "code",
      "metadata": {
        "id": "3mmFUqShfs_W"
      },
      "source": [
        "!pip install ipyleaflet\n",
        "!pip install geojson\n",
        "!pip install mapclassify\n",
        "!pip install geopy\n",
        "!pip install pygeos"
      ],
      "execution_count": null,
      "outputs": []
    },
    {
      "cell_type": "code",
      "metadata": {
        "colab": {
          "base_uri": "https://localhost:8080/"
        },
        "id": "Hjyeu4vVZFFb",
        "outputId": "c7e6eea6-934d-4fad-8f20-709b049b80f9"
      },
      "source": [
        "!pip install pysal\n",
        "!pip install spreg"
      ],
      "execution_count": null,
      "outputs": [
        {
          "output_type": "stream",
          "name": "stdout",
          "text": [
            "Requirement already satisfied: pysal in /usr/local/lib/python3.7/dist-packages (2.5.0)\n",
            "Requirement already satisfied: spopt>=0.1.2 in /usr/local/lib/python3.7/dist-packages (from pysal) (0.2.1)\n",
            "Requirement already satisfied: mgwr>=2.1.2 in /usr/local/lib/python3.7/dist-packages (from pysal) (2.1.2)\n",
            "Requirement already satisfied: pointpats>=2.2.0 in /usr/local/lib/python3.7/dist-packages (from pysal) (2.2.0)\n",
            "Requirement already satisfied: python-dateutil<=2.8.0 in /usr/local/lib/python3.7/dist-packages (from pysal) (2.8.0)\n",
            "Requirement already satisfied: pytest in /usr/local/lib/python3.7/dist-packages (from pysal) (3.6.4)\n",
            "Requirement already satisfied: spglm>=1.0.8 in /usr/local/lib/python3.7/dist-packages (from pysal) (1.0.8)\n",
            "Requirement already satisfied: pytest-cov in /usr/local/lib/python3.7/dist-packages (from pysal) (2.9.0)\n",
            "Requirement already satisfied: spaghetti>=1.6.2 in /usr/local/lib/python3.7/dist-packages (from pysal) (1.6.4)\n",
            "Requirement already satisfied: tobler>=0.8.2 in /usr/local/lib/python3.7/dist-packages (from pysal) (0.8.2)\n",
            "Requirement already satisfied: splot>=1.1.4 in /usr/local/lib/python3.7/dist-packages (from pysal) (1.1.4)\n",
            "Requirement already satisfied: access>=1.1.3 in /usr/local/lib/python3.7/dist-packages (from pysal) (1.1.3)\n",
            "Requirement already satisfied: esda>=2.4.1 in /usr/local/lib/python3.7/dist-packages (from pysal) (2.4.1)\n",
            "Requirement already satisfied: spreg>=1.2.4 in /usr/local/lib/python3.7/dist-packages (from pysal) (1.2.4)\n",
            "Requirement already satisfied: spvcm>=0.3.0 in /usr/local/lib/python3.7/dist-packages (from pysal) (0.3.0)\n",
            "Requirement already satisfied: segregation>=2.0.0 in /usr/local/lib/python3.7/dist-packages (from pysal) (2.1.0)\n",
            "Requirement already satisfied: inequality>=1.0.0 in /usr/local/lib/python3.7/dist-packages (from pysal) (1.0.0)\n",
            "Requirement already satisfied: giddy>=2.3.3 in /usr/local/lib/python3.7/dist-packages (from pysal) (2.3.3)\n",
            "Requirement already satisfied: libpysal>=4.5.1 in /usr/local/lib/python3.7/dist-packages (from pysal) (4.5.1)\n",
            "Requirement already satisfied: urllib3>=1.26 in /usr/local/lib/python3.7/dist-packages (from pysal) (1.26.7)\n",
            "Requirement already satisfied: mapclassify>=2.4.3 in /usr/local/lib/python3.7/dist-packages (from pysal) (2.4.3)\n",
            "Requirement already satisfied: spint>=1.0.7 in /usr/local/lib/python3.7/dist-packages (from pysal) (1.0.7)\n",
            "Requirement already satisfied: coverage in /usr/local/lib/python3.7/dist-packages (from pysal) (6.1.2)\n",
            "Requirement already satisfied: pandas>=0.23.4 in /usr/local/lib/python3.7/dist-packages (from access>=1.1.3->pysal) (1.1.5)\n",
            "Requirement already satisfied: numpy>=1.3 in /usr/local/lib/python3.7/dist-packages (from access>=1.1.3->pysal) (1.19.5)\n",
            "Requirement already satisfied: scikit-learn in /usr/local/lib/python3.7/dist-packages (from esda>=2.4.1->pysal) (1.0.1)\n",
            "Requirement already satisfied: scipy>=0.11 in /usr/local/lib/python3.7/dist-packages (from esda>=2.4.1->pysal) (1.4.1)\n",
            "Requirement already satisfied: quantecon>=0.4.7 in /usr/local/lib/python3.7/dist-packages (from giddy>=2.3.3->pysal) (0.5.2)\n",
            "Requirement already satisfied: requests in /usr/local/lib/python3.7/dist-packages (from libpysal>=4.5.1->pysal) (2.26.0)\n",
            "Requirement already satisfied: beautifulsoup4 in /usr/local/lib/python3.7/dist-packages (from libpysal>=4.5.1->pysal) (4.6.3)\n",
            "Requirement already satisfied: jinja2 in /usr/local/lib/python3.7/dist-packages (from libpysal>=4.5.1->pysal) (2.11.3)\n",
            "Requirement already satisfied: networkx in /usr/local/lib/python3.7/dist-packages (from mapclassify>=2.4.3->pysal) (2.6.3)\n",
            "Requirement already satisfied: pytz>=2017.2 in /usr/local/lib/python3.7/dist-packages (from pandas>=0.23.4->access>=1.1.3->pysal) (2018.9)\n",
            "Requirement already satisfied: opencv-contrib-python>=4.2.0 in /usr/local/lib/python3.7/dist-packages (from pointpats>=2.2.0->pysal) (4.5.4.58)\n",
            "Requirement already satisfied: matplotlib in /usr/local/lib/python3.7/dist-packages (from pointpats>=2.2.0->pysal) (3.2.2)\n",
            "Requirement already satisfied: six>=1.5 in /usr/local/lib/python3.7/dist-packages (from python-dateutil<=2.8.0->pysal) (1.15.0)\n",
            "Requirement already satisfied: sympy in /usr/local/lib/python3.7/dist-packages (from quantecon>=0.4.7->giddy>=2.3.3->pysal) (1.7.1)\n",
            "Requirement already satisfied: numba>=0.38 in /usr/local/lib/python3.7/dist-packages (from quantecon>=0.4.7->giddy>=2.3.3->pysal) (0.51.2)\n",
            "Requirement already satisfied: setuptools in /usr/local/lib/python3.7/dist-packages (from numba>=0.38->quantecon>=0.4.7->giddy>=2.3.3->pysal) (57.4.0)\n",
            "Requirement already satisfied: llvmlite<0.35,>=0.34.0.dev0 in /usr/local/lib/python3.7/dist-packages (from numba>=0.38->quantecon>=0.4.7->giddy>=2.3.3->pysal) (0.34.0)\n",
            "Requirement already satisfied: seaborn in /usr/local/lib/python3.7/dist-packages (from segregation>=2.0.0->pysal) (0.11.2)\n",
            "Requirement already satisfied: deprecation in /usr/local/lib/python3.7/dist-packages (from segregation>=2.0.0->pysal) (2.1.0)\n",
            "Requirement already satisfied: geopandas>=0.9 in /usr/local/lib/python3.7/dist-packages (from segregation>=2.0.0->pysal) (0.10.2+7.g17fe21e)\n",
            "Requirement already satisfied: rvlib>=0.0.5 in /usr/local/lib/python3.7/dist-packages (from segregation>=2.0.0->pysal) (0.0.6)\n",
            "Requirement already satisfied: pip in /usr/local/lib/python3.7/dist-packages (from segregation>=2.0.0->pysal) (21.1.3)\n",
            "Requirement already satisfied: pygeos in /usr/local/lib/python3.7/dist-packages (from segregation>=2.0.0->pysal) (0.11.1)\n",
            "Requirement already satisfied: joblib in /usr/local/lib/python3.7/dist-packages (from segregation>=2.0.0->pysal) (1.1.0)\n",
            "Requirement already satisfied: tqdm in /usr/local/lib/python3.7/dist-packages (from segregation>=2.0.0->pysal) (4.62.3)\n",
            "Requirement already satisfied: quilt3 in /usr/local/lib/python3.7/dist-packages (from segregation>=2.0.0->pysal) (3.6.0)\n",
            "Requirement already satisfied: pyproj>=2.2.0 in /usr/local/lib/python3.7/dist-packages (from geopandas>=0.9->segregation>=2.0.0->pysal) (3.2.1)\n",
            "Requirement already satisfied: shapely>=1.6 in /usr/local/lib/python3.7/dist-packages (from geopandas>=0.9->segregation>=2.0.0->pysal) (1.8.0)\n",
            "Requirement already satisfied: fiona>=1.8 in /usr/local/lib/python3.7/dist-packages (from geopandas>=0.9->segregation>=2.0.0->pysal) (1.8.20)\n",
            "Requirement already satisfied: certifi in /usr/local/lib/python3.7/dist-packages (from fiona>=1.8->geopandas>=0.9->segregation>=2.0.0->pysal) (2021.10.8)\n",
            "Requirement already satisfied: munch in /usr/local/lib/python3.7/dist-packages (from fiona>=1.8->geopandas>=0.9->segregation>=2.0.0->pysal) (2.5.0)\n",
            "Requirement already satisfied: attrs>=17 in /usr/local/lib/python3.7/dist-packages (from fiona>=1.8->geopandas>=0.9->segregation>=2.0.0->pysal) (21.2.0)\n",
            "Requirement already satisfied: click-plugins>=1.0 in /usr/local/lib/python3.7/dist-packages (from fiona>=1.8->geopandas>=0.9->segregation>=2.0.0->pysal) (1.1.1)\n",
            "Requirement already satisfied: cligj>=0.5 in /usr/local/lib/python3.7/dist-packages (from fiona>=1.8->geopandas>=0.9->segregation>=2.0.0->pysal) (0.7.2)\n",
            "Requirement already satisfied: click>=4.0 in /usr/local/lib/python3.7/dist-packages (from fiona>=1.8->geopandas>=0.9->segregation>=2.0.0->pysal) (7.1.2)\n",
            "Requirement already satisfied: PyYAML in /usr/local/lib/python3.7/dist-packages (from rvlib>=0.0.5->segregation>=2.0.0->pysal) (6.0)\n",
            "Requirement already satisfied: cffi>=1.0.0 in /usr/local/lib/python3.7/dist-packages (from rvlib>=0.0.5->segregation>=2.0.0->pysal) (1.15.0)\n",
            "Requirement already satisfied: pycparser in /usr/local/lib/python3.7/dist-packages (from cffi>=1.0.0->rvlib>=0.0.5->segregation>=2.0.0->pysal) (2.21)\n",
            "Requirement already satisfied: threadpoolctl>=2.0.0 in /usr/local/lib/python3.7/dist-packages (from scikit-learn->esda>=2.4.1->pysal) (3.0.0)\n",
            "Requirement already satisfied: rtree in /usr/lib/python3/dist-packages (from spaghetti>=1.6.2->pysal) (0.8.3)\n",
            "Requirement already satisfied: descartes in /usr/local/lib/python3.7/dist-packages (from splot>=1.1.4->pysal) (1.1.0)\n",
            "Requirement already satisfied: pulp in /usr/local/lib/python3.7/dist-packages (from spopt>=0.1.2->pysal) (2.5.1)\n",
            "Requirement already satisfied: rasterstats in /usr/local/lib/python3.7/dist-packages (from tobler>=0.8.2->pysal) (0.16.0)\n",
            "Requirement already satisfied: rasterio in /usr/local/lib/python3.7/dist-packages (from tobler>=0.8.2->pysal) (1.2.10)\n",
            "Requirement already satisfied: statsmodels in /usr/local/lib/python3.7/dist-packages (from tobler>=0.8.2->pysal) (0.10.2)\n",
            "Requirement already satisfied: packaging in /usr/local/lib/python3.7/dist-packages (from deprecation->segregation>=2.0.0->pysal) (21.2)\n",
            "Requirement already satisfied: MarkupSafe>=0.23 in /usr/local/lib/python3.7/dist-packages (from jinja2->libpysal>=4.5.1->pysal) (2.0.1)\n",
            "Requirement already satisfied: kiwisolver>=1.0.1 in /usr/local/lib/python3.7/dist-packages (from matplotlib->pointpats>=2.2.0->pysal) (1.3.2)\n",
            "Requirement already satisfied: cycler>=0.10 in /usr/local/lib/python3.7/dist-packages (from matplotlib->pointpats>=2.2.0->pysal) (0.11.0)\n",
            "Requirement already satisfied: pyparsing!=2.0.4,!=2.1.2,!=2.1.6,>=2.0.1 in /usr/local/lib/python3.7/dist-packages (from matplotlib->pointpats>=2.2.0->pysal) (2.4.7)\n",
            "Requirement already satisfied: atomicwrites>=1.0 in /usr/local/lib/python3.7/dist-packages (from pytest->pysal) (1.4.0)\n",
            "Requirement already satisfied: pluggy<0.8,>=0.5 in /usr/local/lib/python3.7/dist-packages (from pytest->pysal) (0.7.1)\n",
            "Requirement already satisfied: py>=1.5.0 in /usr/local/lib/python3.7/dist-packages (from pytest->pysal) (1.11.0)\n",
            "Requirement already satisfied: more-itertools>=4.0.0 in /usr/local/lib/python3.7/dist-packages (from pytest->pysal) (8.11.0)\n",
            "Requirement already satisfied: jsonlines==1.2.0 in /usr/local/lib/python3.7/dist-packages (from quilt3->segregation>=2.0.0->pysal) (1.2.0)\n",
            "Requirement already satisfied: dnspython>=1.16.0 in /usr/local/lib/python3.7/dist-packages (from quilt3->segregation>=2.0.0->pysal) (2.1.0)\n",
            "Requirement already satisfied: tenacity>=5.1.1 in /usr/local/lib/python3.7/dist-packages (from quilt3->segregation>=2.0.0->pysal) (8.0.1)\n",
            "Requirement already satisfied: flask-json in /usr/local/lib/python3.7/dist-packages (from quilt3->segregation>=2.0.0->pysal) (0.3.4)\n",
            "Requirement already satisfied: boto3>=1.10.0 in /usr/local/lib/python3.7/dist-packages (from quilt3->segregation>=2.0.0->pysal) (1.20.7)\n",
            "Requirement already satisfied: flask in /usr/local/lib/python3.7/dist-packages (from quilt3->segregation>=2.0.0->pysal) (1.1.4)\n",
            "Requirement already satisfied: aws-requests-auth>=0.4.2 in /usr/local/lib/python3.7/dist-packages (from quilt3->segregation>=2.0.0->pysal) (0.4.3)\n",
            "Requirement already satisfied: jsonschema==3.* in /usr/local/lib/python3.7/dist-packages (from quilt3->segregation>=2.0.0->pysal) (3.2.0)\n",
            "Requirement already satisfied: flask-cors in /usr/local/lib/python3.7/dist-packages (from quilt3->segregation>=2.0.0->pysal) (3.0.10)\n",
            "Requirement already satisfied: appdirs>=1.4.0 in /usr/local/lib/python3.7/dist-packages (from quilt3->segregation>=2.0.0->pysal) (1.4.4)\n",
            "Requirement already satisfied: requests-futures==1.0.0 in /usr/local/lib/python3.7/dist-packages (from quilt3->segregation>=2.0.0->pysal) (1.0.0)\n",
            "Requirement already satisfied: importlib-metadata in /usr/local/lib/python3.7/dist-packages (from jsonschema==3.*->quilt3->segregation>=2.0.0->pysal) (4.8.2)\n",
            "Requirement already satisfied: pyrsistent>=0.14.0 in /usr/local/lib/python3.7/dist-packages (from jsonschema==3.*->quilt3->segregation>=2.0.0->pysal) (0.18.0)\n",
            "Requirement already satisfied: botocore<1.24.0,>=1.23.7 in /usr/local/lib/python3.7/dist-packages (from boto3>=1.10.0->quilt3->segregation>=2.0.0->pysal) (1.23.7)\n",
            "Requirement already satisfied: s3transfer<0.6.0,>=0.5.0 in /usr/local/lib/python3.7/dist-packages (from boto3>=1.10.0->quilt3->segregation>=2.0.0->pysal) (0.5.0)\n",
            "Requirement already satisfied: jmespath<1.0.0,>=0.7.1 in /usr/local/lib/python3.7/dist-packages (from boto3>=1.10.0->quilt3->segregation>=2.0.0->pysal) (0.10.0)\n",
            "Requirement already satisfied: charset-normalizer~=2.0.0 in /usr/local/lib/python3.7/dist-packages (from requests->libpysal>=4.5.1->pysal) (2.0.7)\n",
            "Requirement already satisfied: idna<4,>=2.5 in /usr/local/lib/python3.7/dist-packages (from requests->libpysal>=4.5.1->pysal) (2.10)\n",
            "Requirement already satisfied: Werkzeug<2.0,>=0.15 in /usr/local/lib/python3.7/dist-packages (from flask->quilt3->segregation>=2.0.0->pysal) (1.0.1)\n",
            "Requirement already satisfied: itsdangerous<2.0,>=0.24 in /usr/local/lib/python3.7/dist-packages (from flask->quilt3->segregation>=2.0.0->pysal) (1.1.0)\n",
            "Requirement already satisfied: zipp>=0.5 in /usr/local/lib/python3.7/dist-packages (from importlib-metadata->jsonschema==3.*->quilt3->segregation>=2.0.0->pysal) (3.6.0)\n",
            "Requirement already satisfied: typing-extensions>=3.6.4 in /usr/local/lib/python3.7/dist-packages (from importlib-metadata->jsonschema==3.*->quilt3->segregation>=2.0.0->pysal) (3.10.0.2)\n",
            "Requirement already satisfied: snuggs>=1.4.1 in /usr/local/lib/python3.7/dist-packages (from rasterio->tobler>=0.8.2->pysal) (1.4.7)\n",
            "Requirement already satisfied: affine in /usr/local/lib/python3.7/dist-packages (from rasterio->tobler>=0.8.2->pysal) (2.3.0)\n",
            "Requirement already satisfied: simplejson in /usr/local/lib/python3.7/dist-packages (from rasterstats->tobler>=0.8.2->pysal) (3.17.6)\n",
            "Requirement already satisfied: patsy>=0.4.0 in /usr/local/lib/python3.7/dist-packages (from statsmodels->tobler>=0.8.2->pysal) (0.5.2)\n",
            "Requirement already satisfied: mpmath>=0.19 in /usr/local/lib/python3.7/dist-packages (from sympy->quantecon>=0.4.7->giddy>=2.3.3->pysal) (1.2.1)\n",
            "Requirement already satisfied: spreg in /usr/local/lib/python3.7/dist-packages (1.2.4)\n",
            "Requirement already satisfied: numpy>=1.3 in /usr/local/lib/python3.7/dist-packages (from spreg) (1.19.5)\n",
            "Requirement already satisfied: libpysal>=4.0.0 in /usr/local/lib/python3.7/dist-packages (from spreg) (4.5.1)\n",
            "Requirement already satisfied: scipy>=0.11 in /usr/local/lib/python3.7/dist-packages (from spreg) (1.4.1)\n",
            "Requirement already satisfied: pandas in /usr/local/lib/python3.7/dist-packages (from spreg) (1.1.5)\n",
            "Requirement already satisfied: requests in /usr/local/lib/python3.7/dist-packages (from libpysal>=4.0.0->spreg) (2.26.0)\n",
            "Requirement already satisfied: beautifulsoup4 in /usr/local/lib/python3.7/dist-packages (from libpysal>=4.0.0->spreg) (4.6.3)\n",
            "Requirement already satisfied: jinja2 in /usr/local/lib/python3.7/dist-packages (from libpysal>=4.0.0->spreg) (2.11.3)\n",
            "Requirement already satisfied: MarkupSafe>=0.23 in /usr/local/lib/python3.7/dist-packages (from jinja2->libpysal>=4.0.0->spreg) (2.0.1)\n",
            "Requirement already satisfied: python-dateutil>=2.7.3 in /usr/local/lib/python3.7/dist-packages (from pandas->spreg) (2.8.0)\n",
            "Requirement already satisfied: pytz>=2017.2 in /usr/local/lib/python3.7/dist-packages (from pandas->spreg) (2018.9)\n",
            "Requirement already satisfied: six>=1.5 in /usr/local/lib/python3.7/dist-packages (from python-dateutil>=2.7.3->pandas->spreg) (1.15.0)\n",
            "Requirement already satisfied: urllib3<1.27,>=1.21.1 in /usr/local/lib/python3.7/dist-packages (from requests->libpysal>=4.0.0->spreg) (1.26.7)\n",
            "Requirement already satisfied: certifi>=2017.4.17 in /usr/local/lib/python3.7/dist-packages (from requests->libpysal>=4.0.0->spreg) (2021.10.8)\n",
            "Requirement already satisfied: charset-normalizer~=2.0.0 in /usr/local/lib/python3.7/dist-packages (from requests->libpysal>=4.0.0->spreg) (2.0.7)\n",
            "Requirement already satisfied: idna<4,>=2.5 in /usr/local/lib/python3.7/dist-packages (from requests->libpysal>=4.0.0->spreg) (2.10)\n"
          ]
        }
      ]
    },
    {
      "cell_type": "markdown",
      "metadata": {
        "id": "nf1Fy97XRRIW"
      },
      "source": [
        "What did we just install? We used `apt` to install C packages and their Python bindings. With spatial analysis, Python sometimes uses underlying C libraries so we need to go beyond the usual Python-only libraries.\n",
        "\n",
        "[GDAL](https://gdal.org/) is the main open-source C library that underlies most spatial analysis. It's maintained by [The Open Source Geospatial Foundation](https://www.osgeo.org/). [RTree](https://toblerity.org/rtree/) is a spatial indexing method that allows us to efficiently query geometric data with other geometries.\n",
        "\n",
        "We then also installed some Python packages using `pip`. Colab environments come with many Python packages pre-installed, but we've needed to add our main geospatial data packages. We'll use [GeoPandas](https://geopandas.org/) - the geospatial add-on for Python's data analysis library [Pandas](https://pandas.pydata.org/) for our _vector_ data manipulation, and [RasterIO](https://rasterio.readthedocs.io/en/latest/index.html) for our _raster_ data manipulation. We've also imported [NumPy](https://numpy.org/), Python's comprehensive mathematical library, [matplotlib](https://matplotlib.org/), Python's plotting and visualisation library, and [Shapely's](https://shapely.readthedocs.io/en/stable/manual.html) `geometry` for geometric operations. We'll use [PyProj](https://pypi.org/project/pyproj/) for coordinate reprojections, and [PySAL](https://pysal.org/) and [SPReg](https://pysal.org/spreg/) for spatial regression analysis. [GeoJSON](https://geojson.org/) will provide us with the json specification for spatial vector data. We'll also install the [pygeos](https://pygeos.readthedocs.io/) backend for GeoPandas which will give us access to some advanced features.\n",
        "\n",
        "We'll do some interactive mapping with [ipyleaflet](https://ipyleaflet.readthedocs.io/en/latest/index.html)."
      ]
    },
    {
      "cell_type": "markdown",
      "metadata": {
        "id": "V-opyPjwWSIP"
      },
      "source": [
        "(Advanced: You can also use a PyGEOS back-end with GeoPandas, although these two libraries are converging.)"
      ]
    },
    {
      "cell_type": "code",
      "metadata": {
        "id": "QXDOmMX3NmMj",
        "colab": {
          "base_uri": "https://localhost:8080/"
        },
        "outputId": "d4c148d3-9428-4200-9651-b97a7d297227"
      },
      "source": [
        "# Import packages to our Jupyter environment \n",
        "import os\n",
        "import geopandas as gpd\n",
        "import pandas as pd\n",
        "import numpy as np\n",
        "import pysal as ps\n",
        "import spreg\n",
        "import matplotlib.pyplot as plt\n",
        "import rasterio as rio\n",
        "import rasterio.features\n",
        "from shapely import geometry\n",
        "from shapely.ops import transform\n",
        "import pyproj\n",
        "from ipyleaflet import Map, GeoData, basemaps, LayersControl\n",
        "import geojson\n",
        "from sklearn.metrics import mean_squared_error as mse\n",
        "from geopy.distance import geodesic, great_circle\n",
        "# need to enable third-party widgets to use ipyleaflet within Colab\n",
        "from google.colab import output\n",
        "output.enable_custom_widget_manager()"
      ],
      "execution_count": null,
      "outputs": [
        {
          "output_type": "stream",
          "name": "stderr",
          "text": [
            "/usr/local/lib/python3.7/dist-packages/geopandas/_compat.py:115: UserWarning: The Shapely GEOS version (3.9.1-CAPI-1.14.2) is incompatible with the GEOS version PyGEOS was compiled with (3.10.0-CAPI-1.16.0). Conversions between both will be slow.\n",
            "  shapely_geos_version, geos_capi_version_string\n"
          ]
        }
      ]
    },
    {
      "cell_type": "markdown",
      "metadata": {
        "id": "0puw5m493lhq"
      },
      "source": [
        "#### Get Data\n",
        "\n",
        "Geospatial analysis uses a lot of data! The data for this tutorial has been made available at [/lk/data/path](). You'll need to copy this data to this notebook instance. There are two options for doing this.\n"
      ]
    },
    {
      "cell_type": "code",
      "metadata": {
        "id": "jw9NepyE58gB"
      },
      "source": [
        "# Option 1: use gdown to grab the zipfile directly from my drive and then unzip it.\n",
        "!pip install gdown\n",
        "!gdown https://drive.google.com/uc?id=file_id"
      ],
      "execution_count": null,
      "outputs": []
    },
    {
      "cell_type": "code",
      "metadata": {
        "id": "MA9V6Jtk6HTe"
      },
      "source": [
        ""
      ],
      "execution_count": null,
      "outputs": []
    },
    {
      "cell_type": "code",
      "metadata": {
        "colab": {
          "base_uri": "https://localhost:8080/"
        },
        "id": "aBzBfgNgG3Ex",
        "outputId": "5bd053f2-6042-4fc6-8e90-ffa4d0900f45"
      },
      "source": [
        "# Option 2: Mount your own google drive as a filesystem and copy the files over \n",
        "# instructions here: https://webapps.stackexchange.com/questions/120362/how-to-copy-a-shared-folder-into-my-own-google-drive\n",
        "from google.colab import drive\n",
        "drive.mount('/content/drive')"
      ],
      "execution_count": null,
      "outputs": [
        {
          "output_type": "stream",
          "name": "stdout",
          "text": [
            "Drive already mounted at /content/drive; to attempt to forcibly remount, call drive.mount(\"/content/drive\", force_remount=True).\n"
          ]
        }
      ]
    },
    {
      "cell_type": "code",
      "metadata": {
        "id": "zpWIvwjgHST_"
      },
      "source": [
        "# set our root path that we'll use for file io in the tutorial\n",
        "root = os.path.join('/content/drive/MyDrive/ssee_msc/spatial_methods/tutorial_data')"
      ],
      "execution_count": null,
      "outputs": []
    },
    {
      "cell_type": "markdown",
      "metadata": {
        "id": "nfu1i90dH_14"
      },
      "source": [
        "# Key Lesson 0: Map Projections\n",
        "\n"
      ]
    },
    {
      "cell_type": "markdown",
      "metadata": {
        "id": "XMHPF_NfUAOB"
      },
      "source": [
        "[Relevant XKCD: What your favourite map projection says about you](https://xkcd.com/977/)\n",
        "\n",
        "The Earth is an oblate (\"squashed\") spheroid. We need to mathematically describe our position on this spheroid so we can measure where we are. \n",
        "\n",
        "But we also want to represent things in two dimensions for documents, screens, etc. \n",
        "\n",
        "What to do!?"
      ]
    },
    {
      "cell_type": "markdown",
      "metadata": {
        "id": "Gs69c4yA5FQO"
      },
      "source": [
        "So first let's understand the shape of our planet. The Earth's semi-major axis (equitorial radius) is 6,378 km, and the semi-minor axis (polar radius) is 6,257 km. The mathematical shape and the gravitational distribution of the planet is defined by standards set by the United States National Geospatial-Intelligence Agency. The uncertainty in a set of lat-lon WGS84 coordinates is expected to be only several centimetres, dominated by the tectonic movements of landmass rather than measurement uncertainty.\n",
        "\n",
        "| Earth Gravitational Model | Exaggerated Difference between spherical, oblate, and actual coordinates |\n",
        "| ------------------------- | ---------------------------- |\n",
        "| <img src=\"https://raw.githubusercontent.com/Lkruitwagen/teaching_spatial_methods/main/assets/grace.gif\" alt=\"drawing\" style=\"display:inline\" height=\"400\" width=\"400\"></img> <br><sub>https://nasaviz.gsfc.nasa.gov/11234</sub>  | <img src=\"https://raw.githubusercontent.com/Lkruitwagen/teaching_spatial_methods/main/assets/wgs84.png\" alt=\"drawing\" style=\"display:inline\" height=\"400\"></img> |     \n"
      ]
    },
    {
      "cell_type": "markdown",
      "metadata": {
        "id": "L4s3fahSeYBQ"
      },
      "source": [
        "We can *project* our 3D planet into a 2D plane choosing to preserve certain dimensions as best we can. We can image rolling and stretching its surface onto a 2D plane or a 3D shape with a 2D surface like a cylinder.\n",
        "\n",
        "<img src=\"https://raw.githubusercontent.com/Lkruitwagen/teaching_spatial_methods/main/assets/cylindrical.gif\" alt=\"drawing\" style=\"display:inline\" width=\"400\"></img>\n",
        "\n",
        "\n",
        "<sub>[[9](http://www.geography.hunter.cuny.edu/~jochen/gtech361/)]: Albrecht, J. (2005) _Geographic Information Science_ GTECH 361 Syllabus </sub>"
      ]
    },
    {
      "cell_type": "markdown",
      "metadata": {
        "id": "DcOZ_VgCnfzw"
      },
      "source": [
        "To project our ellipsoid onto a plane, we can choose to conserve certain properties. Common preservations include:"
      ]
    },
    {
      "cell_type": "markdown",
      "metadata": {
        "id": "0JqcrZNEnwkM"
      },
      "source": [
        "**Conformal** i.e. preserve angles, distoring area and distance.\n",
        "\n",
        "| Mercator Projection |\n",
        "| ------------------- |\n",
        "| <img src=\"https://raw.githubusercontent.com/Lkruitwagen/teaching_spatial_methods/main/assets/mercator.jpg\" alt=\"drawing\" style=\"display:inline\" width=\"400\"></img>              |"
      ]
    },
    {
      "cell_type": "markdown",
      "metadata": {
        "id": "zo-1_t7Pn4gu"
      },
      "source": [
        "**Equal-Area** i.e. preserve area, distort angles and distance. \n",
        "\n",
        "|  Mollweide   |    Gall-Peters    |\n",
        "| ------------ | ----------------- |\n",
        "|   <img src=\"https://raw.githubusercontent.com/Lkruitwagen/teaching_spatial_methods/main/assets/mollweide.jpg\" alt=\"drawing\" style=\"display:inline\" width=\"400\"></img>     |     <img src=\"https://raw.githubusercontent.com/Lkruitwagen/teaching_spatial_methods/main/assets/gall-peters.jpg\" alt=\"drawing\" style=\"display:inline\" width=\"400\"></img>         |"
      ]
    },
    {
      "cell_type": "markdown",
      "metadata": {
        "id": "N1LSbUJQoVmi"
      },
      "source": [
        "**Equidistant** i.e. preserve distance, either from one point or between two points.\n",
        "\n",
        "|  Azimuthal Equidistant (1 point)   |    Plate Carrée (2 points - poles)   |\n",
        "| ------------ | ----------------- |\n",
        "|     <img src=\"https://raw.githubusercontent.com/Lkruitwagen/teaching_spatial_methods/main/assets/azimuthal-equidistant.jpg\" alt=\"drawing\" style=\"display:inline\" width=\"400\"></img>       |      <img src=\"https://raw.githubusercontent.com/Lkruitwagen/teaching_spatial_methods/main/assets/plate-carree.jpg\" alt=\"drawing\" style=\"display:inline\" width=\"400\"></img>            |\n"
      ]
    },
    {
      "cell_type": "markdown",
      "metadata": {
        "id": "vlkf50ts5AAE"
      },
      "source": [
        "Not only do we want to represent things and measure them, but we also want to use Euclidean geometric operations (trigonometry, area calculations, distance calculations, geometric intersection algorithms, etc). We want a coordinate system that has an acceptable maximum distortion over an area."
      ]
    },
    {
      "cell_type": "markdown",
      "metadata": {
        "id": "o-l0IphgMNDD"
      },
      "source": [
        "**Universal Transverse Mercator** splits the planet into 60 UTM zones of 6ᴼ each and two hemispheres - Northern and Southern. UTM coordinates are given in reference to their zone and are measured in meters. The maximum spatial distortion within a single UTM zone is 0.1%. This is small enough for most mapping applications. \n",
        "\n",
        "|  UTM Zones  |\n",
        "| ----------- |\n",
        "|     <img src=\"https://raw.githubusercontent.com/Lkruitwagen/teaching_spatial_methods/main/assets/utm-zones.jpg\" alt=\"drawing\" style=\"display:inline\" width=\"800\"></img>     |"
      ]
    },
    {
      "cell_type": "markdown",
      "metadata": {
        "id": "sPSl_-zIHFGM"
      },
      "source": [
        "What if we needed to move a tonne of image or map data to billions of users and we don't have time to reproject our data all the time? I want one big perfect map that splits the planet nicely into 256x256 pixel images for rendering in websites.\n",
        "\n",
        "**Web Mercator** does this. Google clips the Mercator projection at approximately [-85,+85] latitude and represents the planet's surface in a square number of pixels. Play around [here](https://www.maptiler.com/google-maps-coordinates-tile-bounds-projection/#2/78.46/59.18). The number of images at each zoom level is 4<sup>z</sup> where z is a zoom level from 0 to 20. At zoom 20, with 256<sup>2</sup> pixels per image, the image of the entire planet is comprised of 7.206e16 pixels. With 3 bytes per pixel (R-G-B), zoom level 20 is about 72 petabytes of uncompressed data!\n",
        "\n",
        "| Web Mercator |\n",
        "| ------------ |\n",
        "|     <img src=\"https://raw.githubusercontent.com/Lkruitwagen/teaching_spatial_methods/main/assets/web-mercator.png\" alt=\"drawing\" style=\"display:inline\" width=\"400\"></img>      |\n",
        "\n",
        "Web mercator gives coordinates in meters, but these coordinates are heavily distorted and should not be used."
      ]
    },
    {
      "cell_type": "markdown",
      "metadata": {
        "id": "9PkMuxFsgAMQ"
      },
      "source": [
        "🥵 Is there somewhere we can find all of these definitions in one place? \n",
        "\n",
        "Almost all map projections have an [EPSG Code](https://epsg.io/). You can find the code you're looking for and use them easily with Python libraries, etc.\n",
        "\n",
        "For most workflows with good data (i.e. not digitizing old maps) you'll only need these common map projections:\n",
        "\n",
        "| Projection | EPSG Code |\n",
        "| ---------- | --------- |\n",
        "| WGS84 (raw lon-lat coordinate system) | EPSG:4326 |\n",
        "| UTM Northern Hemisphere, Zone Number = {ZN}  | EPSG:326{ZN}  |\n",
        "| UTM Southern Hemisphere, Zone Number = {ZN} | EPSG: 327{ZN}  |\n",
        "| Web Mercator | EPSG:3857   |"
      ]
    },
    {
      "cell_type": "markdown",
      "metadata": {
        "id": "_0cjzfwO8kWl"
      },
      "source": [
        "#### Justice and politics of map projections\n",
        "\n",
        "The users of map projections and coordinate systems need to be concious of the bias and equity implications of their work.\n",
        "\n",
        "- Many map projections in use today still center on the North Atlantic in the  2D representations, minimising distortion in those areas, and reinforcing a euro-centric and imperialist world view with non-european peoples and places in the periphery.\n",
        "- The definition of mathematical datum for use in map projections is administered by US institutions, shifting from the US government whose interest continues to be the hegemony of terrestrial and space exploration, to US-based tech companies (consider EPSG:3857). Is this better?\n",
        "- A break from US hegemony, consider China's datum GCJ-02 - a WGS84 datum with a confidential obfuscation algorithm. Is this better?\n",
        "- Mapping plays an integral role in conflict, colonialism, exploitation, and conquest; UTM was developed in the 1940s for aerial photography by the Wehmacht and then quietly appropriated by the US Army Corps of Engineers. The EPSG code database is maintained by the International Association of Oil & Gas Producers.\n"
      ]
    },
    {
      "cell_type": "markdown",
      "metadata": {
        "id": "BliLb0BROrRR"
      },
      "source": [
        "# Key Lesson 1: Modifiable Areal Unit Problem"
      ]
    },
    {
      "cell_type": "markdown",
      "metadata": {
        "id": "upCmcdCASCBx"
      },
      "source": [
        "When commuting from observations to aggregated areal units, the choice of areal unit can have a large impact on the derived analysis of the population. Tobler argues that our choice of areal unit should be invariant to our conclusions:\n",
        "\n",
        "\"The results of an analysis of geographical data should not depend on the spatial coordinates used - the results should be frame independent. This should also apply when areal units are used as the spatial data collection entity. ... It is proposed that all methods of spatial analysis be examined for the invariance of their conclusions under alternative spatial partitionings, and that only those methods be allowed which show such invariance.\"\n",
        "\n",
        "<sub>[[9](https://www.taylorfrancis.com/chapters/edit/10.1201/b12612-22/frame-independent-spatial-analysis-waldo-tobler)] Tobler, W. (1989) _Frame independent spatial analysis_, in The Accuracy of Spatial Databases."
      ]
    },
    {
      "cell_type": "markdown",
      "metadata": {
        "id": "m12n51XmUR43"
      },
      "source": [
        "So it would appear our solution, then, is to find structure in our data that is invariant to our choice of areal unit. Our choice of areal unit is often broken down into choice of _shape_ and choice of _scale_. Sometimes we only have data demarkated by areal units associated with administrative boundaries. This is discussed in Key Lesson 2. The scale problem, relevant to both administrative and regular shape areal units, is discussed in Key Lesson 3."
      ]
    },
    {
      "cell_type": "markdown",
      "metadata": {
        "id": "pM-yDp-hlzX4"
      },
      "source": [
        "**Gridded Sampling** can be used to aggregate data where administrative boundaries are undesireable or unavailable. A tesselation pattern is used to cover an entire spatial area with equal areal units. The most common areal units are squares and hexagons.\n",
        "\n",
        "| Square | Hexagonal |\n",
        "| -------| --------- |\n",
        "| <img src=\"https://raw.githubusercontent.com/Lkruitwagen/teaching_spatial_methods/main/assets/grid-square.png\" alt=\"drawing\" style=\"display:inline\" width=\"400\"></img>  | <img src=\"https://raw.githubusercontent.com/Lkruitwagen/teaching_spatial_methods/main/assets/grid-hex.png\" alt=\"drawing\" style=\"display:inline\" width=\"400\"></img>   |\n",
        "| - simple definition and data storage | - reduced edge effect |\n",
        "| - easily resample                    | - equidistant neighbours |\n",
        "| - easily combine data                | - they look nice         |\n",
        "| - need to choose nieghbour definition | - don't store nicely (polygon? points?) |\n",
        "\n",
        "<sub>[[10](https://strimas.com/post/hexagonal-grids/)] Strimas-Mackey, M. (2020) _Fishnets and Honeycomb: Square vs. Hexagonal Spatial Grids_</sub>"
      ]
    },
    {
      "cell_type": "markdown",
      "metadata": {
        "id": "QAclm_jln4XL"
      },
      "source": [
        "One concern might be **spatial aliasing**. If the data are sampled in a pattern or have a naturally periodic spatial distribution, the choice of areal unit may cause the aggregation to be biased."
      ]
    },
    {
      "cell_type": "markdown",
      "metadata": {
        "id": "t0oPR4dMOf65"
      },
      "source": [
        "# Key Lesson 2: The Political Boundary Problem"
      ]
    },
    {
      "cell_type": "markdown",
      "metadata": {
        "id": "5tlo58WNX8sR"
      },
      "source": [
        "In many data sets, nation-state is an important proxy for cultural factors, or as the demarkation of contiguous culture. In spatial analysis, it is also very sensible to use political administrative areas (countries, provinces/states, counties, municipalities, ridings, census tracts, school districts, etc.)  to describe neighbour relationships, as the diffusion of people and culture are spatial processes.\n",
        "\n",
        "|  Crime data by administrative area |\n",
        "| ---------------------------------------- |\n",
        "| <img src=\"https://raw.githubusercontent.com/Lkruitwagen/teaching_spatial_methods/main/assets/MAUP.png\" alt=\"drawing\" style=\"display:inline\" width=\"800\"></img>  <br><sub>[[11](https://doi.org/10.1007/978-3-319-68041-5)]  Ramasubramanian, L., & Albrecht, J. (2018) Placemaking: Why Everything is Local in _Essential Methods for Planning Practitioners_, Springer.      |"
      ]
    },
    {
      "cell_type": "markdown",
      "metadata": {
        "id": "Ka8FAvx1e3Cy"
      },
      "source": [
        "In many contexts the analyst's interest might be to observe the impacts of some policy choice, the extents of which are delineated by a particular set of boundaries, consider, e.g. local renewable energy subsidies.\n",
        "\n",
        "|  Utility-Scale Solar PV in the Carolinas |\n",
        "| ---------------------------------------- |\n",
        "| <img src=\"https://raw.githubusercontent.com/Lkruitwagen/teaching_spatial_methods/main/assets/solarpv-carolinas.png\" alt=\"drawing\" style=\"display:inline\" width=\"800\"></img> |"
      ]
    },
    {
      "cell_type": "markdown",
      "metadata": {
        "id": "aLnPujZgJv0K"
      },
      "source": [
        "**The imprecise scale** of administrative borders\n",
        "The use of administrative boundaries for spatial analysis imposes several problems. The first and most obvious is closely related to scale, in that the administrative boundaries used might be too coarse to accurately model an underlying spatial process. The phenomenon of interest might be buried within the heterogeneity inside of administrative areas.\n",
        "\n",
        "|  Urban vs Rural voting - imperceptible at the state level |\n",
        "| ---------------------------------------- |\n",
        "| <img src=\"https://raw.githubusercontent.com/Lkruitwagen/teaching_spatial_methods/main/assets/ohio.png\" alt=\"drawing\" style=\"display:inline\" width=\"800\"></img>  |"
      ]
    },
    {
      "cell_type": "markdown",
      "metadata": {
        "id": "i-rz2X5tJEpb"
      },
      "source": [
        "There's also an **endogeneity problem**. Administrative boundaries can be, to some extent, self-selected by social processes choosing where their frontiers lie. Of course boundaries can also be natural features, or the path-dependent legacy of prior generations' decisisions, but to an extent they might also be a product of the same spatial process that is the topic of study. \n",
        "\n",
        "Consider, e.g. gerrymandering. In gerrymandering, politicians redraw the boundaries of administrative areas to consolidate power or suit their policy interests. This then biases the use of those boundaries as areal units in our downstream analysis.\n",
        "\n",
        "|  Gerrymandering |\n",
        "| ---------------------------------------- |\n",
        "| <img src=\"https://raw.githubusercontent.com/Lkruitwagen/teaching_spatial_methods/main/assets/gerrymandering.jpg\" alt=\"drawing\" style=\"display:inline\" width=\"400\"></img>                <br><sub>[[xx](https://www.wired.com/2016/01/gerrymandering-is-even-more-infuriating-when-you-can-actually-see-it/)] Rae, A. (2016) _Wired_ |"
      ]
    },
    {
      "cell_type": "markdown",
      "metadata": {
        "id": "kNVdgq49Idrb"
      },
      "source": [
        "Finally, there is the **edge effect** where, if using a subset of administrative areal units, we don't have any information about what might be happening beyond the units of our study. These by diffusion or correlation these interdependencies can effect our area of study."
      ]
    },
    {
      "cell_type": "markdown",
      "metadata": {
        "id": "sGjPM_m2OrJO"
      },
      "source": [
        "# Key Lesson 3: The Scale Problem"
      ]
    },
    {
      "cell_type": "markdown",
      "metadata": {
        "id": "C-XO3krvVMha"
      },
      "source": [
        "Closely related to both the political boundary problem and the MAUP, the scale problem similarly biases spatial analysis by confounding the details by the choice of the scale of areal unit. This can by either for raster type areal units (e.g. square or hex 'gridworlds') or by the choice of administrative level for aggregation, e.g. UK Middle Layer Super Output Areas vs. Local Authorities. As with the MAUP, we seek to structure our data in a way that is invariant to the scale of our areal unit.\n",
        "\n",
        "| The Scale Problem |\n",
        "| ----------------- |\n",
        "|  <img src=\"https://raw.githubusercontent.com/Lkruitwagen/teaching_spatial_methods/main/assets/scale_problem.png\" alt=\"drawing\" style=\"display:inline\" width=\"400\"></img>              |"
      ]
    },
    {
      "cell_type": "markdown",
      "metadata": {
        "id": "km1jVYLlZHVQ"
      },
      "source": [
        "One approach is to spatially resample our data. We could, for example, randomly aggregate neighbouring small areal units, in a sense bootstrapping a more continuous spatial distribution of our data. We can then observe the impact of spatial aggregation of our data and at least observe and control for the impact of the MAUP and scale problems.\n",
        "\n",
        "| Bootstrapping Continuous Distributions |\n",
        "| -------------------------------------- |\n",
        "| <img src=\"https://raw.githubusercontent.com/Lkruitwagen/teaching_spatial_methods/main/assets/bootstrapping.png\" alt=\"drawing\" style=\"display:inline\" width=\"800\"></img>  <br><sub>[[12](https://ij-healthgeographics.biomedcentral.com/articles/10.1186/s12942-019-0170-3)] Tuson, M., Yap, M., Kok, M.R., et al. (2019) _International Journal of Health Geographies_ **18**:(6)|"
      ]
    },
    {
      "cell_type": "markdown",
      "metadata": {
        "id": "ZI8-v5SLaZCi"
      },
      "source": [
        "This approach relies on the availability of large data - either a minimum areal unit from which bootstrapped aggregations can be drawn, or point event/population data itself. As ever, the solution seems to be more data! For privacy reasons in many social science applications this resolution of data is often unavailable. "
      ]
    },
    {
      "cell_type": "markdown",
      "metadata": {
        "id": "-jUFEkCrOq62"
      },
      "source": [
        "# Key Lesson 4: Returning to Spatial Autocorrelation"
      ]
    },
    {
      "cell_type": "markdown",
      "metadata": {
        "id": "4q7ZjETq4mrM"
      },
      "source": [
        "**Measuring spacial autocorrelation**\n",
        "Spatial autocorrelation, a measure of the clustering of our data, can be measured. Several metrics are used, but the most common is Moran's I. \n",
        "\n",
        "Moran's I is a measure of the local autocorrelated deviation from the mean of a measurement. With samples _i_ and its neighbours _j_ of variable _x_, the neighour adjacency matrix _W_, and the deviation _zᵢ_ = _xᵢ_ - _x̄_, Moran's I for a single sample is defined as:\n",
        "\n",
        "_Iᵢ_ = _zᵢ Σ Wᵢⱼzⱼ_\n",
        "\n"
      ]
    },
    {
      "cell_type": "markdown",
      "metadata": {
        "id": "ZuTqDUQeBPu0"
      },
      "source": [
        "A global Moran's I can be found by summing the _Iᵢ_ :\n",
        "\n",
        "I = $\\frac{n\\Sigma_i I_i}{\\Sigma_{i,j}w_{i,j}\\Sigma_iz_i^{2}}$"
      ]
    },
    {
      "cell_type": "markdown",
      "metadata": {
        "id": "XDJvBQ6TCqf_"
      },
      "source": [
        "We can use a two-sided test with the global Moran's I statistic to reject a null hypothesis of randomly distributed (i.e. not spatially autocorrelated) errors."
      ]
    },
    {
      "cell_type": "markdown",
      "metadata": {
        "id": "YWbv30144mnz"
      },
      "source": [
        "**Spatial Regression**\n",
        "\n",
        "Returning to Galton's Problem, we can develop several regression models which will help us discovver and control for spatial autocorrelation in our data, and interpret the results.\n",
        "\n",
        "Recall our solar rooftop example. With independent variables _X_ and dependent variable _Y_ we can estimate a standard regression model using ordinary least squares.\n",
        "\n",
        "$Y = \\alpha + X\\beta + \\epsilon$"
      ]
    },
    {
      "cell_type": "markdown",
      "metadata": {
        "id": "fR4NLBNmDoqw"
      },
      "source": [
        "Finding that the error terms might be spatially autocorrelated, we can define a model with _spatially-lagged_ exogenous regressors. We use the neighbour adjacency matrix _W_ to sample neighbouring values of independent variable _X_. Because all our variables are still exogenous, we can also solve this model with OLS.\n",
        "\n",
        "$Y = \\alpha + X\\beta + \\delta W X + \\epsilon$ "
      ]
    },
    {
      "cell_type": "markdown",
      "metadata": {
        "id": "WzP9fL4FExXW"
      },
      "source": [
        "We might want to introduce some _spatial fixed effects_, no longer assuming a constant intercept term $\\alpha$ but a term that varies each or several groupings of areal units, _i_. Again, because all our variables are still exogenous, we can also solve this model with OLS.\n",
        "\n",
        "$Y = \\alpha_{i} + X\\beta + \\delta W X + \\epsilon$ "
      ]
    },
    {
      "cell_type": "markdown",
      "metadata": {
        "id": "Di1GeSFI4mYt"
      },
      "source": [
        "Finally, our data may show spatial lag which can only be controlled with endogenous regressors. In this case, our model can no longer be solved using using OLS and we must use a spatial lag model.\n",
        "\n",
        "$Y = \\alpha_{i} + X\\beta + \\delta W Y + \\delta W X + \\epsilon$ "
      ]
    },
    {
      "cell_type": "markdown",
      "metadata": {
        "id": "T4NMVAOXGlQY"
      },
      "source": [
        "**In summary**\n",
        "\n",
        "|   Y=a+Xb+e | Y=a+Xb+WX+e | Y=ai+Xb+WX+e  | Y=ai+WY+WX+Xb+e |\n",
        "| ---------- | ----- | --- | ---- |\n",
        "|<img src=\"https://raw.githubusercontent.com/Lkruitwagen/teaching_spatial_methods/main/assets/model_0.png\" alt=\"drawing\" style=\"display:inline\" width=\"200\"></img> |<img src=\"https://raw.githubusercontent.com/Lkruitwagen/teaching_spatial_methods/main/assets/model_1.png\" alt=\"drawing\" style=\"display:inline\" width=\"200\"></img>|<img src=\"https://raw.githubusercontent.com/Lkruitwagen/teaching_spatial_methods/main/assets/model_2.png\" alt=\"drawing\" style=\"display:inline\" width=\"200\"></img>|<img src=\"https://raw.githubusercontent.com/Lkruitwagen/teaching_spatial_methods/main/assets/model_3.png\" alt=\"drawing\" style=\"display:inline\" width=\"200\"></img> |\n",
        "| OLS ✔ |  OLS ✔   |    OLS ✔   |   OLS ❌    |"
      ]
    },
    {
      "cell_type": "markdown",
      "metadata": {
        "id": "gi_QOggKHDuL"
      },
      "source": [
        "**interpretting statistics tables**\n",
        "\n",
        "If using a spatial regression statistical package like `spreg`, the standard statistical summary tables will help you design your model. The significance of the _Lagrange Multipliers_ will tell you if your data are spatially autocorrelated and whether that autocorrelation is in the endogenous variable (lag) or the error (error). These diagnostics are also accompanied by a probability which you can compare to your desired significance to accept or reject a null hypothesis. The _Robust Lagrange Multipliers_ are there to provide guidance if the LMs are too close to each other. The Robust LMs are meant to moderate the effect of the respective opposite.\n",
        "\n",
        "| Diagnostic, e.g. |\n",
        "| --------------- |\n",
        "| <img src=\"https://raw.githubusercontent.com/Lkruitwagen/teaching_spatial_methods/main/assets/diagnostics.png\" alt=\"drawing\" style=\"display:inline\" width=\"400\"></img> |\n",
        "\n",
        "| Diagnostic  |   Approach   |\n",
        "| ----------- | ------------ |\n",
        "| Lagrange Multiplier (Lag)  |  The model should be specified with endogenous neighbour regressors |\n",
        "| Lagrange Multiplier (Error)  |  The model should be further specified with exogenous regressors |\n",
        "| Robust Lagrange Multiplier (Lag) | Same as LM-Lag above, in the case that LM-Lag and LM-Error are indistinguishable |\n",
        "| Robust Lagrange Multiplier (Error) | Same as LM-Error above, in the case that LM-Lag and LM-Erorr are indistinguishable |"
      ]
    },
    {
      "cell_type": "markdown",
      "metadata": {
        "id": "ad5kVI52I0zl"
      },
      "source": [
        "Further Resources on these topics can be found here:\n",
        "\n",
        "[[8](https://doi.org/10.1017/CBO9781139051293.005)]: Darmofal, D. (2015) _Spatial Analysis for the Social Sciences_, Cambridge University Press\n",
        "textbook\n",
        "\n",
        "[[13](https://s4.ad.brown.edu/resources/tutorial/modul2/geoda3final.pdf)]: _Spatial Regression with GeoDa_, S4, Brown University\n",
        "\n",
        "[[14](http://darribas.org/gds_scipy16/)]: Rey, S., & Arribas-Bel, D. (2015) _Geographic Data Science with PySAL and the pydata stack_.\n",
        "\n",
        "[[15](https://www.uni-kassel.de/fb07/index.php?eID=dumpFile&t=f&f=2900&token=168736c06755ecf85c12676db52d4f78be596277)]: _Testing for spatial dependence in regression models_, Kassel University"
      ]
    },
    {
      "cell_type": "markdown",
      "metadata": {
        "id": "WqoBbYEdeVS_"
      },
      "source": [
        "# Tutorial 0: Vector data basics. \n",
        "Do you live close enough to Carfax? In this tutorial we'll explore whether we live within the [University limits](https://academic.admin.ox.ac.uk/residency#:~:text=In%20general%2C%20PGR%20students%20must,and%20approved%20by%20the%20department).\n",
        "\n"
      ]
    },
    {
      "cell_type": "markdown",
      "metadata": {
        "id": "SSmnPeZSWcF_"
      },
      "source": [
        "Spatial data comes in two main flavours: _vector_ data, and _raster_ data. \n",
        "\n",
        "**Vector Data**\n",
        "\n",
        "Vector data representations use geometries: `Points`, `Lines`, `LinearRings`, and `Polygons`, and collections thereof. Geospatial geometries are usually 2D and expressed in the coordinates of a given map projection. A geometry combined with some arbitrary number of properties is a `Feature`. A collection of features is, sensibly, a `FeatureCollection`.\n",
        "\n",
        "❓ What might the difference be between a LinearRing and Polygon?\n",
        "\n",
        "**Raster Data**\n",
        "\n",
        "Raster data is a collection of spatially-contiguous data with a single datatype per layer, i.e. an image. To be properly georeferenced, raster data must be accompanied by a map projection and a `geotransform`. A geotransform defines the spatial location of the raster pixels in the raster's map projection.\n",
        "\n",
        "❓ T/F: We can use the pixels of a raster to measure the geospatial covered area of a phenomenon or object.\n",
        "\n",
        "❓ What type of data should we use to represent country borders? Peak solar irradiance per square meter? Monthly rainfall distribution over an area? Road networks? Species distributions? Covid rates?"
      ]
    },
    {
      "cell_type": "code",
      "metadata": {
        "id": "QZYo44krdnDB"
      },
      "source": [
        "# Let's define some geometries.\n",
        "carfax = geometry.Point(-1.257935, 51.751905) # x,y => lon,lat\n",
        "\n",
        "my_address = geometry.Point(-1.270606, 51.762180)"
      ],
      "execution_count": null,
      "outputs": []
    },
    {
      "cell_type": "code",
      "metadata": {
        "colab": {
          "base_uri": "https://localhost:8080/",
          "height": 111
        },
        "id": "4PYrdhaNj0X2",
        "outputId": "81fc13a2-3937-4ca8-da99-bb2e8e1225d8"
      },
      "source": [
        "# Let's make a GeoDataFrame by turning our geometries into features.\n",
        "features = [\n",
        "    geojson.Feature(geometry=carfax, properties = {'name':'Carfax'}),\n",
        "    geojson.Feature(geometry=my_address, properties={'name':\"Lucas' House\"})\n",
        "]\n",
        "\n",
        "# Build our dataframe. Don't forget to add a CRS!\n",
        "gdf = gpd.GeoDataFrame.from_features(features, crs='EPSG:4326')\n",
        "gdf"
      ],
      "execution_count": null,
      "outputs": [
        {
          "output_type": "execute_result",
          "data": {
            "text/html": [
              "<div>\n",
              "<style scoped>\n",
              "    .dataframe tbody tr th:only-of-type {\n",
              "        vertical-align: middle;\n",
              "    }\n",
              "\n",
              "    .dataframe tbody tr th {\n",
              "        vertical-align: top;\n",
              "    }\n",
              "\n",
              "    .dataframe thead th {\n",
              "        text-align: right;\n",
              "    }\n",
              "</style>\n",
              "<table border=\"1\" class=\"dataframe\">\n",
              "  <thead>\n",
              "    <tr style=\"text-align: right;\">\n",
              "      <th></th>\n",
              "      <th>geometry</th>\n",
              "      <th>name</th>\n",
              "    </tr>\n",
              "  </thead>\n",
              "  <tbody>\n",
              "    <tr>\n",
              "      <th>0</th>\n",
              "      <td>POINT (-1.25794 51.75191)</td>\n",
              "      <td>Carfax</td>\n",
              "    </tr>\n",
              "    <tr>\n",
              "      <th>1</th>\n",
              "      <td>POINT (-1.27061 51.76218)</td>\n",
              "      <td>Lucas' House</td>\n",
              "    </tr>\n",
              "  </tbody>\n",
              "</table>\n",
              "</div>"
            ],
            "text/plain": [
              "                    geometry          name\n",
              "0  POINT (-1.25794 51.75191)        Carfax\n",
              "1  POINT (-1.27061 51.76218)  Lucas' House"
            ]
          },
          "metadata": {},
          "execution_count": 72
        }
      ]
    },
    {
      "cell_type": "code",
      "metadata": {
        "colab": {
          "base_uri": "https://localhost:8080/",
          "height": 421,
          "referenced_widgets": [
            "ca243bc109e8450687c78b6f2089f7ef",
            "347da9fd71ee443cac091538119dc19a",
            "4813b41365964a249c6de6b90f489926",
            "b1527ddbc6dc47fba26f9ead40c57041",
            "8697dc985d1d468a9963a70407bdc66e",
            "15bc6776b90a4cf0adb34430cc8ea4f0",
            "7a2e71eb92544bfda7fccb989550ed92",
            "cbb08c5865f94230b9d8b48ee3c8c907",
            "2288e03e486c42e78dd5aab0a3b98209"
          ]
        },
        "id": "vt4Ksh7zi0PB",
        "outputId": "cbcb497d-1501-4ce8-eec4-bd5d97acf802"
      },
      "source": [
        "# We're in a nice jupyter environment, so let's visualise them on a map.\n",
        "m = Map(basemap=basemaps.OpenStreetMap.Mapnik, center=(carfax.y, carfax.x), zoom=12) # lat,lon -> always check.\n",
        "address_geodata = GeoData(\n",
        "    geo_dataframe=gdf,\n",
        "    name = 'latlon_addresses'\n",
        ")\n",
        "m.add_layer(address_geodata)\n",
        "m"
      ],
      "execution_count": null,
      "outputs": [
        {
          "output_type": "display_data",
          "data": {
            "application/vnd.jupyter.widget-view+json": {
              "model_id": "ca243bc109e8450687c78b6f2089f7ef",
              "version_minor": 0,
              "version_major": 2
            },
            "text/plain": [
              "Map(center=[51.751905, -1.257935], controls=(ZoomControl(options=['position', 'zoom_in_text', 'zoom_in_title',…"
            ]
          },
          "metadata": {
            "application/vnd.jupyter.widget-view+json": {
              "colab": {
                "custom_widget_manager": {
                  "url": "https://ssl.gstatic.com/colaboratory-static/widgets/colab-cdn-widget-manager/e680a8b83b2ea152/manager.min.js"
                }
              }
            }
          }
        }
      ]
    },
    {
      "cell_type": "markdown",
      "metadata": {
        "id": "yR-rNk_pn4cP"
      },
      "source": [
        "So what's the distance from my house to carfax? Am I living close enough during term time?\n",
        "\n",
        "Our `lon,lat` points are in a non-euclidean projection. We'll need to change projections first before we can do a distance measurement. Let's use `EPSG:4326`, our standard `lon,lat-WGS84` projection and the UK's [Ordnance Survery](https://epsg.io/27700) `EPSG:27700` which is in meters."
      ]
    },
    {
      "cell_type": "code",
      "metadata": {
        "colab": {
          "base_uri": "https://localhost:8080/"
        },
        "id": "6R29PeZKl4n3",
        "outputId": "a979ded1-c120-45a2-c6df-b92d5b2e1400"
      },
      "source": [
        "# create CRS objects using proj\n",
        "crs_ll = pyproj.CRS('EPSG:4326')\n",
        "crs_gb = pyproj.CRS('EPSG:27700')\n",
        "\n",
        "# instantiate the coordinate transformer using pyproj\n",
        "transform_ll2gb = pyproj.Transformer.from_crs(crs_ll, crs_gb, always_xy=True).transform\n",
        "\n",
        "# apply the coordinate transformer using shapely.ops.transform\n",
        "carfax_gb = transform(transform_ll2gb, carfax)\n",
        "my_address_gb = transform(transform_ll2gb, my_address)\n",
        "\n",
        "[carfax_gb.x, carfax_gb.y], [my_address_gb.x, my_address_gb.y]"
      ],
      "execution_count": null,
      "outputs": [
        {
          "output_type": "execute_result",
          "data": {
            "text/plain": [
              "([451322.20555235475, 206172.74767000007],\n",
              " [450436.10278808884, 207306.70913027448])"
            ]
          },
          "metadata": {},
          "execution_count": 64
        }
      ]
    },
    {
      "cell_type": "code",
      "metadata": {
        "colab": {
          "base_uri": "https://localhost:8080/",
          "height": 111
        },
        "id": "CbzFFRAxv2qx",
        "outputId": "de8a5efd-0bea-4600-a9f0-0421d8e172f7"
      },
      "source": [
        "# we can also use geopandas to change the CRS of our dataframe.\n",
        "gdf.to_crs('EPSG:27700')"
      ],
      "execution_count": null,
      "outputs": [
        {
          "output_type": "execute_result",
          "data": {
            "text/html": [
              "<div>\n",
              "<style scoped>\n",
              "    .dataframe tbody tr th:only-of-type {\n",
              "        vertical-align: middle;\n",
              "    }\n",
              "\n",
              "    .dataframe tbody tr th {\n",
              "        vertical-align: top;\n",
              "    }\n",
              "\n",
              "    .dataframe thead th {\n",
              "        text-align: right;\n",
              "    }\n",
              "</style>\n",
              "<table border=\"1\" class=\"dataframe\">\n",
              "  <thead>\n",
              "    <tr style=\"text-align: right;\">\n",
              "      <th></th>\n",
              "      <th>geometry</th>\n",
              "      <th>name</th>\n",
              "    </tr>\n",
              "  </thead>\n",
              "  <tbody>\n",
              "    <tr>\n",
              "      <th>0</th>\n",
              "      <td>POINT (451322.206 206172.748)</td>\n",
              "      <td>Carfax</td>\n",
              "    </tr>\n",
              "    <tr>\n",
              "      <th>1</th>\n",
              "      <td>POINT (450436.103 207306.709)</td>\n",
              "      <td>Lucas' House</td>\n",
              "    </tr>\n",
              "  </tbody>\n",
              "</table>\n",
              "</div>"
            ],
            "text/plain": [
              "                        geometry          name\n",
              "0  POINT (451322.206 206172.748)        Carfax\n",
              "1  POINT (450436.103 207306.709)  Lucas' House"
            ]
          },
          "metadata": {},
          "execution_count": 71
        }
      ]
    },
    {
      "cell_type": "code",
      "metadata": {
        "colab": {
          "base_uri": "https://localhost:8080/"
        },
        "id": "9XcAHN-FpWqN",
        "outputId": "9b10acdf-4f25-4522-a96a-ba4cf1205d60"
      },
      "source": [
        "# okay now we can get the distance in m using pythagoras\n",
        "distance_in_m = ((my_address_gb.x - carfax_gb.x)**2 + (my_address_gb.y - carfax_gb.y)**2)**(1/2)\n",
        "distance_in_m"
      ],
      "execution_count": null,
      "outputs": [
        {
          "output_type": "execute_result",
          "data": {
            "text/plain": [
              "1439.1131651914486"
            ]
          },
          "metadata": {},
          "execution_count": 66
        }
      ]
    },
    {
      "cell_type": "markdown",
      "metadata": {
        "id": "PXRC82o9rPe7"
      },
      "source": [
        "We forgot to account for the curvature of the earth! What a cavalier simplificiation."
      ]
    },
    {
      "cell_type": "code",
      "metadata": {
        "colab": {
          "base_uri": "https://localhost:8080/"
        },
        "id": "6ztGBBbTnHDj",
        "outputId": "6acb4ab3-799b-4023-ec32-1c36e4b32db5"
      },
      "source": [
        "# Let's calculate the geodesic distance using geopy. We can use lat,lon directly.\n",
        "geodesic((carfax.y,carfax.x),(my_address.y,my_address.x)).meters"
      ],
      "execution_count": null,
      "outputs": [
        {
          "output_type": "execute_result",
          "data": {
            "text/plain": [
              "1439.6011319110225"
            ]
          },
          "metadata": {},
          "execution_count": 51
        }
      ]
    },
    {
      "cell_type": "markdown",
      "metadata": {
        "id": "RGQxBfJmwTBN"
      },
      "source": [
        "A difference of almost 50cm!"
      ]
    },
    {
      "cell_type": "code",
      "metadata": {
        "colab": {
          "base_uri": "https://localhost:8080/"
        },
        "id": "LSEjilVSvilB",
        "outputId": "5bf6a97c-ed33-4b5f-f8c9-1501595b4fe9"
      },
      "source": [
        "# Ah but we're a clever bird. We'll take a great-circle route.\n",
        "great_circle((carfax.y,carfax.x),(my_address.y,my_address.x)).meters"
      ],
      "execution_count": null,
      "outputs": [
        {
          "output_type": "execute_result",
          "data": {
            "text/plain": [
              "1437.3582255536485"
            ]
          },
          "metadata": {},
          "execution_count": 68
        }
      ]
    },
    {
      "cell_type": "markdown",
      "metadata": {
        "id": "lnryJzrkE_ij"
      },
      "source": [
        "An economisation of over 2m! Incredible."
      ]
    },
    {
      "cell_type": "markdown",
      "metadata": {
        "id": "pWFQkvyozrYF"
      },
      "source": [
        "# Tutorial 1: Reading, Analysis, and Writing Vector Data\n",
        "\n",
        "A core principle of economic geography is the complex spatial relationships of economic phenomena - leading to, for example, path dependency and lock-in of infrastructure. In this tutorial we'll calculate the distance between wind farm installations in the US and the US transmission grid."
      ]
    },
    {
      "cell_type": "markdown",
      "metadata": {
        "id": "PoYYJRvvPAHw"
      },
      "source": [
        "With `GeoPandas` we can read in almost any geospatial vector data into memory. Common filetypes are `ESRI Shapefiles (.shp)`, `GeoJSON (.geojson)`, `GeoPackages (.gpkg)`, `GeoDatabases (.gdb)`, `Keyhole Markup Language (KML) (.kml)`, and `geobuf (.pbf)`. In most research contexts, there is no relative advantage to any particulate filetype."
      ]
    },
    {
      "cell_type": "code",
      "metadata": {
        "id": "UnhOoK6K6zf4",
        "colab": {
          "base_uri": "https://localhost:8080/",
          "height": 180
        },
        "outputId": "78526d0f-5ca4-42b3-dcd5-70f108c59ba0"
      },
      "source": [
        "wind_turbine_gdf = gpd.read_file(os.path.join(root,'us_wind_turbine_db_v4_2_2021101.geojson')).reset_index()\n",
        "grid_gdf = gpd.read_file(os.path.join(root,'Transmission_Lines.shp')).to_crs('epsg:4326') # this dataset is in epsg:3857"
      ],
      "execution_count": null,
      "outputs": [
        {
          "output_type": "error",
          "ename": "NameError",
          "evalue": "ignored",
          "traceback": [
            "\u001b[0;31m---------------------------------------------------------------------------\u001b[0m",
            "\u001b[0;31mNameError\u001b[0m                                 Traceback (most recent call last)",
            "\u001b[0;32m<ipython-input-1-22d8ae33f3f3>\u001b[0m in \u001b[0;36m<module>\u001b[0;34m()\u001b[0m\n\u001b[0;32m----> 1\u001b[0;31m \u001b[0mwind_turbine_gdf\u001b[0m \u001b[0;34m=\u001b[0m \u001b[0mgpd\u001b[0m\u001b[0;34m.\u001b[0m\u001b[0mread_file\u001b[0m\u001b[0;34m(\u001b[0m\u001b[0mos\u001b[0m\u001b[0;34m.\u001b[0m\u001b[0mpath\u001b[0m\u001b[0;34m.\u001b[0m\u001b[0mjoin\u001b[0m\u001b[0;34m(\u001b[0m\u001b[0mroot\u001b[0m\u001b[0;34m,\u001b[0m\u001b[0;34m'us_wind_turbine_db_v4_2_2021101.geojson'\u001b[0m\u001b[0;34m)\u001b[0m\u001b[0;34m)\u001b[0m\u001b[0;34m.\u001b[0m\u001b[0mreset_index\u001b[0m\u001b[0;34m(\u001b[0m\u001b[0;34m)\u001b[0m\u001b[0;34m\u001b[0m\u001b[0;34m\u001b[0m\u001b[0m\n\u001b[0m\u001b[1;32m      2\u001b[0m \u001b[0mgrid_gdf\u001b[0m \u001b[0;34m=\u001b[0m \u001b[0mgpd\u001b[0m\u001b[0;34m.\u001b[0m\u001b[0mread_file\u001b[0m\u001b[0;34m(\u001b[0m\u001b[0mos\u001b[0m\u001b[0;34m.\u001b[0m\u001b[0mpath\u001b[0m\u001b[0;34m.\u001b[0m\u001b[0mjoin\u001b[0m\u001b[0;34m(\u001b[0m\u001b[0mroot\u001b[0m\u001b[0;34m,\u001b[0m\u001b[0;34m'Transmission_Lines.shp'\u001b[0m\u001b[0;34m)\u001b[0m\u001b[0;34m)\u001b[0m\u001b[0;34m.\u001b[0m\u001b[0mto_crs\u001b[0m\u001b[0;34m(\u001b[0m\u001b[0;34m'epsg:4326'\u001b[0m\u001b[0;34m)\u001b[0m \u001b[0;31m# this dataset is in epsg:3857\u001b[0m\u001b[0;34m\u001b[0m\u001b[0;34m\u001b[0m\u001b[0m\n",
            "\u001b[0;31mNameError\u001b[0m: name 'gpd' is not defined"
          ]
        }
      ]
    },
    {
      "cell_type": "code",
      "metadata": {
        "id": "UoZKQKbHSlfT"
      },
      "source": [
        "# Let's limit ourselves to the contiguous US. Let's define a lon-lat box containing the lower 48 states.\n",
        "bbox_ll = geometry.box(minx=-125, miny=24, maxx=-65, maxy=50)"
      ],
      "execution_count": null,
      "outputs": []
    },
    {
      "cell_type": "code",
      "metadata": {
        "id": "MOR-rYtYSxVO"
      },
      "source": [
        "# let's filter our geodataframes using this box.\n",
        "# we can index a geodataframe using `.loc` just as in pandas, but can use shapely boolean ops like `intersects`\n",
        "wind_turbine_gdf = wind_turbine_gdf.loc[wind_turbine_gdf.intersects(bbox_ll)]\n",
        "grid_gdf = grid_gdf.loc[grid_gdf.intersects(bbox_ll)]"
      ],
      "execution_count": null,
      "outputs": []
    },
    {
      "cell_type": "code",
      "metadata": {
        "id": "It_84X0WM3OR"
      },
      "source": [
        "# let's visualise our data. We can use GeoPandas `.plot()` method and pass a mpl axis.\n",
        "fig, ax = plt.subplots(1,1,figsize=(16,8))\n",
        "grid_gdf.plot(ax=ax, color='c')\n",
        "wind_turbine_gdf.plot(ax=ax, color='r')\n",
        "\n",
        "# use our bbox_ll bounds to limit the figure extents.\n",
        "ax.set_xlim(bbox_ll.bounds[0],bbox_ll.bounds[2])\n",
        "ax.set_ylim(bbox_ll.bounds[1],bbox_ll.bounds[3])\n",
        "plt.show()"
      ],
      "execution_count": null,
      "outputs": []
    },
    {
      "cell_type": "code",
      "metadata": {
        "id": "We5JEIYYO3UP"
      },
      "source": [
        "# For each turbine, let's get the ID of the closest grid object.\n",
        "\n",
        "# Method 1: lets get the distance in 'euclidean' latlon degrees.\n",
        "# drop the right index result of the of the joined dataframe, \n",
        "# then remove equidistance objects by grouping, taking the first entry, then resetting the index\n",
        "wind_turbine_gdf = gpd.sjoin_nearest(wind_turbine_gdf, grid_gdf[['geometry']], how='left', distance_col='distance_ll') \\\n",
        "                      .drop(columns=['index_right']) \\\n",
        "                      .groupby('index') \\\n",
        "                      .nth(0) \\\n",
        "                      .reset_index() "
      ],
      "execution_count": null,
      "outputs": []
    },
    {
      "cell_type": "markdown",
      "metadata": {
        "id": "SmTb90uhbry7"
      },
      "source": [
        "We get a nice little warning from GeoPandas telling us we haven't projected things correctly!"
      ]
    },
    {
      "cell_type": "code",
      "metadata": {
        "id": "hQ0szO1kb13N"
      },
      "source": [
        "# Method 2: Let's give it a go with 'web mercator' (EPSG:3857)\n",
        "wind_turbine_gdf = wind_turbine_gdf.to_crs('EPSG:3857')\n",
        "grid_gdf = grid_gdf.to_crs('EPSG:3857')\n",
        "\n",
        "wind_turbine_gdf = gpd.sjoin_nearest(wind_turbine_gdf, grid_gdf[['geometry']], how='left', distance_col='distance_m_3857') \\\n",
        "                      .drop(columns=['index_right']) \\\n",
        "                      .groupby('index') \\\n",
        "                      .nth(0) \\\n",
        "                      .reset_index() "
      ],
      "execution_count": null,
      "outputs": []
    },
    {
      "cell_type": "markdown",
      "metadata": {
        "id": "s43VNnqqeZft"
      },
      "source": [
        "For Method 3, let's do it right, using UTM zones. For each turbine we'll get the local UTM zone, then we'll calculate the nearest distances reprojecting into each zone, and then we'll drop the superfluous columns."
      ]
    },
    {
      "cell_type": "code",
      "metadata": {
        "id": "oU1XR5xKeYhT"
      },
      "source": [
        "# For each turbine, get the UTM zone. Let's make a UTM zone helper function:\n",
        "def get_utm_zone(lat, lon, epsg=False):\n",
        "    \"\"\"A function to grab the UTM zone number for any lat/lon location\"\"\"\n",
        "    zone_str = str(int((lon + 180) / 6) + 1)\n",
        "\n",
        "    if (lat >= 56.0) & (lat < 64.0) & (lon >= 3.0) & (lon < 12.0):\n",
        "        zone_str = \"32\"\n",
        "    elif (lat >= 72.0) & (lat < 84.0):\n",
        "        if (lon >= 0.0) & (lon < 9.0):\n",
        "            zone_str = \"31\"\n",
        "        elif (lon >= 9.0) & (lon < 21.0):\n",
        "            zone_str = \"33\"\n",
        "        elif (lon >= 21.0) & (lon < 33.0):\n",
        "            zone_str = \"35\"\n",
        "        elif (lon >= 33.0) & (lon < 42.0):\n",
        "            zone_str = \"37\"\n",
        "\n",
        "    if epsg:\n",
        "        if lat>0:\n",
        "            return f\"326{zone_str}\"\n",
        "        else:\n",
        "            return f\"327{zone_str}\"\n",
        "    else:\n",
        "        return zone_str"
      ],
      "execution_count": null,
      "outputs": []
    },
    {
      "cell_type": "code",
      "metadata": {
        "id": "WCTPZxCCeFLv"
      },
      "source": [
        "# For each turbine, use a pandas apply to get the UTM zone.\n",
        "wind_turbine_gdf['utm_epsg'] = wind_turbine_gdf.apply(lambda row: 'epsg:'+get_utm_zone(row['xlong'],row['ylat'],True), axis=1)"
      ],
      "execution_count": null,
      "outputs": []
    },
    {
      "cell_type": "code",
      "metadata": {
        "id": "5uzc7-2yNOSK"
      },
      "source": [
        "# For each utm zone represented in the data, get the minimum distance in that projection.\n",
        "for crs_code in wind_turbine_gdf['utm_epsg'].unique():\n",
        "    wind_turbine_gdf = wind_turbine_gdf.to_crs(crs_code)\n",
        "    grid_gdf = grid_gdf.to_crs(crs_code)\n",
        "\n",
        "    wind_turbine_gdf = gpd.sjoin_nearest(wind_turbine_gdf, grid_gdf[['geometry']], how='left', distance_col=f'distance_m_{crs_code}') \\\n",
        "                          .drop(columns=['index_right']) \\\n",
        "                          .groupby('index') \\\n",
        "                          .nth(0) \\\n",
        "                          .reset_index() "
      ],
      "execution_count": null,
      "outputs": []
    },
    {
      "cell_type": "code",
      "metadata": {
        "id": "0lV8yTUAgSNF"
      },
      "source": [
        "# consolidate the columns back to a single column using another apply to select the correct distance for each turbine.\n",
        "wind_turbine_gdf['distance_m_utm'] = wind_turbine_gdf.apply(lambda row: row[f'distance_m_{row[\"utm_epsg\"]}'], axis=1)"
      ],
      "execution_count": null,
      "outputs": []
    },
    {
      "cell_type": "code",
      "metadata": {
        "id": "2jkuZ3WCjpMV"
      },
      "source": [
        "# drop unneeded columns\n",
        "wind_turbine_gdf = wind_turbine_gdf.drop(columns=[col for col in wind_turbine_gdf.columns if 'epsg' in col])"
      ],
      "execution_count": null,
      "outputs": []
    },
    {
      "cell_type": "code",
      "metadata": {
        "id": "wVTtinsekrgl"
      },
      "source": [
        "#lets see how far, on average, wind turbines are from the power grid\n",
        "wind_turbine_gdf['distance_m_utm'].hist(bins=20)"
      ],
      "execution_count": null,
      "outputs": []
    },
    {
      "cell_type": "code",
      "metadata": {
        "id": "pgD1D8OUkMJK"
      },
      "source": [
        "# let's calculate the distance error if we had used 3857\n",
        "wind_turbine_gdf['distance_error'] = (wind_turbine_gdf['distance_m_3857'] - wind_turbine_gdf['distance_m_utm'])/wind_turbine_gdf['distance_m_utm']"
      ],
      "execution_count": null,
      "outputs": []
    },
    {
      "cell_type": "code",
      "metadata": {
        "id": "vuGHTsyElFtx"
      },
      "source": [
        "wind_turbine_gdf['distance_error'].mean()"
      ],
      "execution_count": null,
      "outputs": []
    },
    {
      "cell_type": "markdown",
      "metadata": {
        "id": "awdAI2CalVuB"
      },
      "source": [
        "Wow! So on average, using the wrong map projection would have overestimated the distance to the power grid by almost 10%."
      ]
    },
    {
      "cell_type": "code",
      "metadata": {
        "id": "zg8LEYtVke56"
      },
      "source": [
        "wind_turbine_gdf['distance_error'].hist(bins=50)"
      ],
      "execution_count": null,
      "outputs": []
    },
    {
      "cell_type": "code",
      "metadata": {
        "id": "ce9UZJXDLzq8"
      },
      "source": [
        "# Let's save our new dataframe back to a file. With geopandas it's easy.\n",
        "drivers = {'ESRI Shapefile':'.shp','GPKG':'.gpkg','GeoJSON':'.geojson'}\n",
        "for driver_name, extension in drivers.items():\n",
        "    wind_turbine_gdf.to_file(os.path.join(root,f'wind_turbine_distance{extension}'), driver=driver_name)"
      ],
      "execution_count": null,
      "outputs": []
    },
    {
      "cell_type": "markdown",
      "metadata": {
        "id": "Zgh7OjDxxnjg"
      },
      "source": [
        "# Tutorial 2: Reading and Writing Raster Data.\n",
        "[Normalised-Difference Vegetation Index](https://en.wikipedia.org/wiki/Normalized_difference_vegetation_index) is an important metric for assessing vegetation health and growth over large areas using satellite data. Let's compare NDVI between Oxford summer and winter.\n",
        "\n",
        "We've prepared some GeoTIFF data in the data package, two sample AOIs over Oxford on lightly-cloudy days 2019-12-23 for the winter, and 2020-08-22 for the summer. Both images are from Sentinel-2 multispectral satellite and have been atmosphere corrected.\n",
        "\n",
        "Sentinel-2 data is obtained with multiple `bands` corresponding to the sensor's capture of light at different wavelengths. This data has bands 2, 3, 4, and 8 which correspond, respectively, to blue, green, and red visible light, and near-infrared, all sampled at 10m/pixel."
      ]
    },
    {
      "cell_type": "code",
      "metadata": {
        "id": "OFGrKXGoyMFf"
      },
      "source": [
        "# let's begin by having a look at the raster metadata.\n",
        "rio_ds_winter = rio.open(os.path.join(root,'oxford_winter.tif'))"
      ],
      "execution_count": null,
      "outputs": []
    },
    {
      "cell_type": "code",
      "metadata": {
        "id": "pG0C0L5rvtp1"
      },
      "source": [
        "rio_ds_winter.profile"
      ],
      "execution_count": null,
      "outputs": []
    },
    {
      "cell_type": "code",
      "metadata": {
        "id": "TszYnRJBv0PA"
      },
      "source": [
        "# Raster data is often stored with multiple bands. Let's read a single band into a numpy array\n",
        "arr_winter_b = rio_ds_winter.read(1) # rasterio band indexes begin at 1"
      ],
      "execution_count": null,
      "outputs": []
    },
    {
      "cell_type": "code",
      "metadata": {
        "id": "Vbnn7Amlwgwx"
      },
      "source": [
        "# we can visualise a single band\n",
        "fig, ax = plt.subplots(1,1,figsize=(8,8))\n",
        "ax.imshow(arr_b/4000, vmax=1, vmin=0) # for Sentinel-2 data, scaling the range to [0,4000] is sensible.\n",
        "plt.show()"
      ],
      "execution_count": null,
      "outputs": []
    },
    {
      "cell_type": "code",
      "metadata": {
        "id": "aHTw9fguwcGV"
      },
      "source": [
        "# but it's more interesting to make a truecolor composite.\n",
        "arr_winter_g = rio_ds_winter.read(2)\n",
        "arr_winter_r = rio_ds_winter.read(3)"
      ],
      "execution_count": null,
      "outputs": []
    },
    {
      "cell_type": "code",
      "metadata": {
        "id": "6GZJaKc7xBI_"
      },
      "source": [
        "fig, ax = plt.subplots(1,1,figsize=(8,8))\n",
        "# stacking and transposing to get the dimensions in the correct order, scaling to (0,1)\n",
        "ax.imshow(np.stack([arr_winter_r, arr_winter_g, arr_winter_b]).transpose(1,2,0)/4000, vmax=1, vmin=0)\n",
        "plt.show()"
      ],
      "execution_count": null,
      "outputs": []
    },
    {
      "cell_type": "code",
      "metadata": {
        "id": "-Q4gtQtAxmf7"
      },
      "source": [
        "# lets get all the data into memory and calculate ndvi\n",
        "arr_winter_n = rio_ds_winter.read(4)\n",
        "rio_ds_summer = rio.open(os.path.join(root,'oxford_summer.tif'))\n",
        "arr_summer_b = rio_ds_summer.read(1)\n",
        "arr_summer_g = rio_ds_summer.read(2)\n",
        "arr_summer_r = rio_ds_summer.read(3)\n",
        "arr_summer_n = rio_ds_summer.read(4)"
      ],
      "execution_count": null,
      "outputs": []
    },
    {
      "cell_type": "code",
      "metadata": {
        "id": "uqJw1uMZu1FM"
      },
      "source": [
        "# visualise summer for comparison\n",
        "fig, ax = plt.subplots(1,1,figsize=(8,8))\n",
        "ax.imshow(np.stack([arr_summer_r, arr_summer_g, arr_summer_b]).transpose(1,2,0)/4000, vmax=1, vmin=0)\n",
        "plt.show()"
      ],
      "execution_count": null,
      "outputs": []
    },
    {
      "cell_type": "code",
      "metadata": {
        "id": "2cxgLsCfznG4"
      },
      "source": [
        "# a little helper function for clipping the full Sentinel0-2 range, 10,000\n",
        "def clipper(arr):\n",
        "  return (arr/10000).clip(0,1)"
      ],
      "execution_count": null,
      "outputs": []
    },
    {
      "cell_type": "code",
      "metadata": {
        "id": "UOapkx_ay0LO"
      },
      "source": [
        "# calculate nvdi using the formula (NIR-RED)/(NIR+RED)\n",
        "ndvi_summer = (clipper(arr_summer_n) - clipper(arr_summer_r))/(clipper(arr_summer_n)+clipper(arr_summer_r))\n",
        "ndvi_winter = (clipper(arr_winter_n) - clipper(arr_winter_r))/(clipper(arr_winter_n)+clipper(arr_winter_r))"
      ],
      "execution_count": null,
      "outputs": []
    },
    {
      "cell_type": "code",
      "metadata": {
        "id": "wAWGBHQvzGWN"
      },
      "source": [
        "# let's plot the comparison in the pixel space\n",
        "fig, axs = plt.subplots(1,3, figsize=(18,6))\n",
        "axs[0].imshow(ndvi_summer)\n",
        "axs[1].imshow(ndvi_winter)\n",
        "axs[2].imshow(ndvi_summer - ndvi_winter)\n",
        "axs[0].set_title('summer'); axs[1].set_title('winter'); axs[2].set_title('difference')\n",
        "plt.show()"
      ],
      "execution_count": null,
      "outputs": []
    },
    {
      "cell_type": "code",
      "metadata": {
        "id": "Yu9neEzI0A0E"
      },
      "source": [
        "# let's plot the pixel-space histograms\n",
        "fig, axs = plt.subplots(1,2,figsize=(12,6))\n",
        "axs[0].hist(ndvi_summer.flatten(), bins=20)\n",
        "axs[1].hist(ndvi_winter.flatten(), bins=20)\n",
        "axs[0].set_title('summer'); axs[1].set_title('winter')\n",
        "plt.show()"
      ],
      "execution_count": null,
      "outputs": []
    },
    {
      "cell_type": "markdown",
      "metadata": {
        "id": "mnTqoryA5E-r"
      },
      "source": [
        "❓ Summer NDVI seems to have a bimodal distribution. Why might this be?"
      ]
    },
    {
      "cell_type": "code",
      "metadata": {
        "id": "11fMhWE34qGl"
      },
      "source": [
        "plt.imshow((ndvi_summer>0.05) & (ndvi_summer<0.5))"
      ],
      "execution_count": null,
      "outputs": []
    },
    {
      "cell_type": "code",
      "metadata": {
        "id": "S0XU4Vh82wDP"
      },
      "source": [
        "# lets write our result to file. To write our GeoTIFF, rasterio needs the crs and transform of our data. \n",
        "# We can get these from one of our source files.\n",
        "base_profile=rio_ds_winter.profile\n",
        "\n",
        "base_profile.update({'dtype':np.float32})\n",
        "\n",
        "with rio.open(os.path.join(root,'winter_ndvi.tif'), 'w', **base_profile) as dst:\n",
        "    dst.write(ndvi_winter.astype(np.float32), 1)\n",
        "\n",
        "with rio.open(os.path.join(root,'summer_ndvi.tif'), 'w', **base_profile) as dst:\n",
        "    dst.write(ndvi_summer.astype(np.float32), 1)"
      ],
      "execution_count": null,
      "outputs": []
    },
    {
      "cell_type": "markdown",
      "metadata": {
        "id": "BlY_M4ut1RRn"
      },
      "source": [
        "Say we want to isolate the ndvi just of port meadow. How could we do this?\n",
        "I've made a geojson of port meadow using [geojson.io](http://geojson.io/#map=14/51.7734/-1.2947). Can we use this to compare the ndvi of port meadow between seasons?"
      ]
    },
    {
      "cell_type": "code",
      "metadata": {
        "id": "BYL9bKWx2Fo4"
      },
      "source": [
        "# load the data using geopandas.\n",
        "port_meadow_gdf = gpd.read_file(os.path.join(root,'port_meadow.geojson'))"
      ],
      "execution_count": null,
      "outputs": []
    },
    {
      "cell_type": "code",
      "metadata": {
        "id": "-uMXOo3g2Qwu"
      },
      "source": [
        "port_meadow_gdf.plot()"
      ],
      "execution_count": null,
      "outputs": []
    },
    {
      "cell_type": "markdown",
      "metadata": {
        "id": "W-9G1SyO6Y-a"
      },
      "source": [
        "How do we sample our _raster_ data with _vector_ data? We'll need to generate a pixel mask from the polygon in the came pixel space as our rasters.\n",
        "\n",
        "Because raster data can get quite large, this time we'll use a `window` to sample only a piece of the raster data. We can use `rasterio.features.geometry_window` to obtain the window for port meadow, and `rasterio.features.geometry_mask` to obtain the boolean mask for our window. **NB: the geometries used to generate the window must be in the same crs as the raster!**"
      ]
    },
    {
      "cell_type": "code",
      "metadata": {
        "id": "Pchti0TW4lmA"
      },
      "source": [
        "# create reader objects for both our summer and winter ndvi rasters\n",
        "summer_ndvi_ds = rio.open(os.path.join(root,'summer_ndvi.tif'), 'r')\n",
        "winter_ndvi_ds = rio.open(os.path.join(root,'winter_ndvi.tif'), 'r')"
      ],
      "execution_count": null,
      "outputs": []
    },
    {
      "cell_type": "code",
      "metadata": {
        "id": "-xlbBB3N7lbZ"
      },
      "source": [
        "# generate the pixel window. This will be the same for summer and winter.\n",
        "window = rasterio.features.geometry_window(\n",
        "    dataset=summer_ndvi_ds, \n",
        "    shapes=port_meadow_gdf.to_crs(summer_ndvi_ds.crs)['geometry'].tolist()\n",
        ")"
      ],
      "execution_count": null,
      "outputs": []
    },
    {
      "cell_type": "markdown",
      "metadata": {
        "id": "i4n5EElK96L7"
      },
      "source": [
        "to get the mask for this specific window, we'll need to get the `window_transform` (combining the raster transform and the additional window transform)."
      ]
    },
    {
      "cell_type": "code",
      "metadata": {
        "id": "YjxF9vIX81sX"
      },
      "source": [
        "# use the window and the dataset to get the window transform.\n",
        "window_transform = rio.windows.transform(window=window, transform=summer_ndvi_ds.transform)"
      ],
      "execution_count": null,
      "outputs": []
    },
    {
      "cell_type": "code",
      "metadata": {
        "id": "F0IVPN7t-iz9"
      },
      "source": [
        "# compare the two transforms\n",
        "summer_ndvi_ds.transform, window_transform"
      ],
      "execution_count": null,
      "outputs": []
    },
    {
      "cell_type": "code",
      "metadata": {
        "id": "gAK6Hsub-NiR"
      },
      "source": [
        "# now use the geometries, window, and window_transform to get the pixel-wise mask.\n",
        "mask = rasterio.features.geometry_mask(\n",
        "    geometries=port_meadow_gdf.to_crs(summer_ndvi_ds.crs)['geometry'].tolist(), \n",
        "    out_shape=(window.height, window.width), \n",
        "    transform=window_transform, \n",
        "    all_touched=False, \n",
        "    invert=True\n",
        ")"
      ],
      "execution_count": null,
      "outputs": []
    },
    {
      "cell_type": "code",
      "metadata": {
        "id": "Hvyx5Dle--ia"
      },
      "source": [
        "# now obtain the pixel values, using the reader objects and the window.\n",
        "arr_summer_pm = rio_ds_summer.read([3,2,1],window=window)\n",
        "arr_winter_pm = rio_ds_winter.read([3,2,1], window=window)\n",
        "arr_summer_ndvi_pm = summer_ndvi_ds.read(1,window=window)\n",
        "arr_winter_ndvi_pm = winter_ndvi_ds.read(1,window=window)"
      ],
      "execution_count": null,
      "outputs": []
    },
    {
      "cell_type": "code",
      "metadata": {
        "id": "huAlpoxS-zHE"
      },
      "source": [
        "fig, axs = plt.subplots(1,5,figsize=(15,3))\n",
        "axs[0].imshow((arr_summer_pm.transpose(1,2,0)/4000).clip(0,1))\n",
        "axs[1].imshow((arr_winter_pm.transpose(1,2,0)/4000).clip(0,1))\n",
        "axs[2].imshow(arr_summer_ndvi_pm)\n",
        "axs[3].imshow(arr_winter_ndvi_pm)\n",
        "axs[4].imshow(mask)\n",
        "axs[0].set_title('summer');axs[1].set_title('winter')\n",
        "axs[2].set_title('summer-ndvi'); axs[3].set_title('winter-ndvi')\n",
        "axs[4].set_title('pixel mask')\n",
        "plt.show()"
      ],
      "execution_count": null,
      "outputs": []
    },
    {
      "cell_type": "code",
      "metadata": {
        "id": "3qNNxG8VA52e"
      },
      "source": [
        "# a few nans in the winter ndvi. \n",
        "np.isnan(arr_winter_ndvi_pm).sum() # number of pixels"
      ],
      "execution_count": null,
      "outputs": []
    },
    {
      "cell_type": "code",
      "metadata": {
        "id": "ZXerE2hzBt8Q"
      },
      "source": [
        "# Let's remove those from a winter mask with some boolean logic\n",
        "winter_mask = mask * (~np.isnan(arr_winter_ndvi_pm))\n",
        "plt.imshow(winter_mask)"
      ],
      "execution_count": null,
      "outputs": []
    },
    {
      "cell_type": "code",
      "metadata": {
        "id": "GJC-dfLUAORi"
      },
      "source": [
        "# We can now finally calculate the pixel-wise mean ndvi for summer and winter of Port Meadow!\n",
        "pm_summer_mean_ndvi = (arr_summer_ndvi_pm*mask).sum()/mask.sum()\n",
        "pm_winter_mean_ndvi = (arr_winter_ndvi_pm*winter_mask)[winter_mask].sum().sum()/winter_mask.sum()\n",
        "pm_summer_mean_ndvi, pm_winter_mean_ndvi"
      ],
      "execution_count": null,
      "outputs": []
    },
    {
      "cell_type": "markdown",
      "metadata": {
        "id": "nj26zPoP0QkM"
      },
      "source": [
        "# Tutorial 3: Spatial Sampling\n",
        "\n",
        "**The impact of spatial scale on land cover mapping.**\n",
        "\n",
        "Solar PV began growing very rapidly in the Netherlands in the late 2010s. The Netherlands is a small country with a complex urban-rural patchwork of land use. Previously, as in Kruitwagen et al. [[1](https://www.nature.com/articles/s41586-021-03957-7)], only 100m landcover products were globally available, however in 2021, three 10m global landcover products using Sentinel-2 data were published. Let's see how the different scale of these products impacts our measurement of the land cover impacts of solar PV installation. Specifically, let's use the [Copernicus CORINE Land Cover](https://developers.google.com/earth-engine/datasets/catalog/COPERNICUS_CORINE_V20_100m#description) product for 2018 and the [ESA WorldCover](https://developers.google.com/earth-engine/datasets/catalog/ESA_WorldCover_v100) product."
      ]
    },
    {
      "cell_type": "markdown",
      "metadata": {
        "id": "GGRNq5TCHRt8"
      },
      "source": [
        "Because our solar PV facility data is from 2018 and our landcover data is from 2020, we cannot measure ex-ante land cover impact. Instead we can use a proxy by measuring the landcover surrounding each facility. We will constrain our AOI to a single UTM zone which will make geospatial operations more simple."
      ]
    },
    {
      "cell_type": "code",
      "metadata": {
        "id": "DvbGtuh8IhoV"
      },
      "source": [
        "# define our AOI for the West of the Netherlands\n",
        "AOI = geometry.Polygon([[3.3154536339746388,51.26679982188645],[5.982384786318389,51.26679982188645],[5.982384786318389,53.42400627095791],[3.3154536339746388,53.42400627095791],[3.3154536339746388,51.26679982188645]])"
      ],
      "execution_count": null,
      "outputs": []
    },
    {
      "cell_type": "code",
      "metadata": {
        "id": "82pzuJRXhqLd"
      },
      "source": [
        "# load our solar pv data\n",
        "gdf = gpd.read_file(os.path.join(root,'solar_pv_predicted_set.geojson'))"
      ],
      "execution_count": null,
      "outputs": []
    },
    {
      "cell_type": "code",
      "metadata": {
        "id": "S4lbbL0KNJBe"
      },
      "source": [
        "# filter our solar PV data then cast it to ESPG:32631\n",
        "gdf = gdf.loc[gdf.intersects(AOI)]\n",
        "\n",
        "gdf = gdf.to_crs('EPSG:32631')"
      ],
      "execution_count": null,
      "outputs": []
    },
    {
      "cell_type": "code",
      "metadata": {
        "id": "mK0YGKQYJA9a"
      },
      "source": [
        "# let's use a 100m buffer around each facility as a search area. \n",
        "gdf['buffer_geom'] = gdf.geometry.buffer(100)"
      ],
      "execution_count": null,
      "outputs": []
    },
    {
      "cell_type": "code",
      "metadata": {
        "colab": {
          "base_uri": "https://localhost:8080/"
        },
        "id": "8szef_9QJamY",
        "outputId": "1345a980-ce33-45af-da4c-5386ce539c5f"
      },
      "source": [
        "# to not double count pixels, let's dissolve the the geometries\n",
        "gdf_buffered = gdf.set_geometry('buffer_geom').dissolve().explode('buffer_geom')[['buffer_geom']]"
      ],
      "execution_count": null,
      "outputs": [
        {
          "output_type": "stream",
          "name": "stderr",
          "text": [
            "/usr/local/lib/python3.7/dist-packages/ipykernel_launcher.py:2: FutureWarning: Currently, index_parts defaults to True, but in the future, it will default to False to be consistent with Pandas. Use `index_parts=True` to keep the current behavior and True/False to silence the warning.\n",
            "  \n"
          ]
        }
      ]
    },
    {
      "cell_type": "code",
      "metadata": {
        "id": "d5Wrb9rePBOV"
      },
      "source": [
        "# let's also remove the initial facility areas from our new geometries\n",
        "gdf_buffered.geometry = gdf_buffered.geometry.difference(gdf.unary_union)"
      ],
      "execution_count": null,
      "outputs": []
    },
    {
      "cell_type": "code",
      "metadata": {
        "colab": {
          "base_uri": "https://localhost:8080/",
          "height": 234
        },
        "id": "MvkPYCScJgDu",
        "outputId": "d54ee57c-c7e9-42ea-c77c-167507a68ff0"
      },
      "source": [
        "# visualise to check\n",
        "gdf_buffered.iloc[0:1].plot()"
      ],
      "execution_count": null,
      "outputs": [
        {
          "output_type": "execute_result",
          "data": {
            "text/plain": [
              "<matplotlib.axes._subplots.AxesSubplot at 0x7f8905095690>"
            ]
          },
          "metadata": {},
          "execution_count": 39
        },
        {
          "output_type": "display_data",
          "data": {
            "image/png": "[encoded data removed]",
            "text/plain": [
              "<Figure size 432x288 with 1 Axes>"
            ]
          },
          "metadata": {
            "needs_background": "light"
          }
        }
      ]
    },
    {
      "cell_type": "code",
      "metadata": {
        "id": "q-e71AFAIeIv"
      },
      "source": [
        "# load our raster data\n",
        "rio_clc = rio.open(os.path.join(root,'NL_CLC.tif'))\n",
        "rio_wc = rio.open(os.path.join(root,'NL_ESA_WorldCover.tif'))\n",
        "arr_clc = rio_clc.read(1)\n",
        "arr_wc = rio_wc.read(1)"
      ],
      "execution_count": null,
      "outputs": []
    },
    {
      "cell_type": "code",
      "metadata": {
        "colab": {
          "base_uri": "https://localhost:8080/"
        },
        "id": "H6KYTEzITGwn",
        "outputId": "b51de82e-4625-4a18-cc6b-0af3de9eb4c2"
      },
      "source": [
        "# check the shape\n",
        "arr_clc.shape, arr_wc.shape"
      ],
      "execution_count": null,
      "outputs": [
        {
          "output_type": "execute_result",
          "data": {
            "text/plain": [
              "((2441, 1872), (24405, 18709))"
            ]
          },
          "metadata": {},
          "execution_count": 57
        }
      ]
    },
    {
      "cell_type": "code",
      "metadata": {
        "colab": {
          "base_uri": "https://localhost:8080/",
          "height": 281
        },
        "id": "S-e_wg25RoKF",
        "outputId": "447d84bd-2cb7-416f-d8a9-dcc1748d6571"
      },
      "source": [
        "# visualize (will colormap categorical data later)\n",
        "fig, axs = plt.subplots(1,2,figsize=(8,4))\n",
        "axs[0].imshow(arr_clc)\n",
        "axs[1].imshow(arr_wc)\n",
        "axs[0].set_title('CLC')\n",
        "axs[1].set_title('ESA WC')\n",
        "plt.show()"
      ],
      "execution_count": null,
      "outputs": [
        {
          "output_type": "display_data",
          "data": {
            "image/png": "[encoded data removed]",
            "text/plain": [
              "<Figure size 576x288 with 2 Axes>"
            ]
          },
          "metadata": {
            "needs_background": "light"
          }
        }
      ]
    },
    {
      "cell_type": "code",
      "metadata": {
        "colab": {
          "base_uri": "https://localhost:8080/"
        },
        "id": "g3zh6KJGIwGt",
        "outputId": "0e3a481c-45e1-46e3-b265-a4459f9c210b"
      },
      "source": [
        "# upsample our CLC array so we don't lose pixels from areal coverage\n",
        "arr_clc = arr_clc.repeat(10, 0).repeat(10, 1)\n",
        "arr_clc.shape"
      ],
      "execution_count": null,
      "outputs": [
        {
          "output_type": "execute_result",
          "data": {
            "text/plain": [
              "(24410, 18720)"
            ]
          },
          "metadata": {},
          "execution_count": 58
        }
      ]
    },
    {
      "cell_type": "code",
      "metadata": {
        "id": "DW4c9Y95KjoX"
      },
      "source": [
        "# user RasterIO burn in our mask. Because of the slight difference in shapes well burn in two different masks using both rasters' georeferences.\n",
        "mask_wc = rasterio.features.geometry_mask(\n",
        "    geometries=gdf_buffered['buffer_geom'].tolist(), \n",
        "    out_shape=(arr_wc.shape[0], arr_wc.shape[1]), \n",
        "    transform=rio_wc.transform, \n",
        "    all_touched=False, \n",
        "    invert=True\n",
        ")"
      ],
      "execution_count": null,
      "outputs": []
    },
    {
      "cell_type": "code",
      "metadata": {
        "id": "CmPUAvlQUzEW"
      },
      "source": [
        "# slightly more complicated for CLC. Need to define a new transform using our new spatial scale.\n",
        "clc_10m_transform = rasterio.Affine(10,0,rio_clc.transform[2],0,-10,rio_clc.transform[5])\n",
        "\n",
        "mask_clc = rasterio.features.geometry_mask(\n",
        "    geometries=gdf_buffered['buffer_geom'].tolist(), \n",
        "    out_shape=(arr_clc.shape[0], arr_clc.shape[1]), \n",
        "    transform=clc_10m_transform, \n",
        "    all_touched=False, \n",
        "    invert=True\n",
        ")"
      ],
      "execution_count": null,
      "outputs": []
    },
    {
      "cell_type": "code",
      "metadata": {
        "id": "olE7cPI2LRgZ"
      },
      "source": [
        "# use our mask to sample our two land cover arrays\n",
        "lc_clc = arr_clc[mask_clc]\n",
        "lc_wc = arr_wc[mask_wc]"
      ],
      "execution_count": null,
      "outputs": []
    },
    {
      "cell_type": "code",
      "metadata": {
        "colab": {
          "base_uri": "https://localhost:8080/"
        },
        "id": "bk1Ztdd4V1ob",
        "outputId": "39cf2d9c-95de-4bd3-c157-904264e370d9"
      },
      "source": [
        "# check shapes\n",
        "lc_clc.shape, lc_wc.shape"
      ],
      "execution_count": null,
      "outputs": [
        {
          "output_type": "execute_result",
          "data": {
            "text/plain": [
              "((83182,), (83182,))"
            ]
          },
          "metadata": {},
          "execution_count": 72
        }
      ]
    },
    {
      "cell_type": "code",
      "metadata": {
        "colab": {
          "base_uri": "https://localhost:8080/"
        },
        "id": "tMqxfVPLWLLo",
        "outputId": "771f64af-c7b3-47c8-e969-268691a30bc0"
      },
      "source": [
        "np.unique(lc_clc)"
      ],
      "execution_count": null,
      "outputs": [
        {
          "output_type": "execute_result",
          "data": {
            "text/plain": [
              "array([112, 121, 122, 123, 132, 133, 141, 142, 211, 231, 242, 243, 311,\n",
              "       321, 322, 411, 421, 511, 512], dtype=int16)"
            ]
          },
          "metadata": {},
          "execution_count": 74
        }
      ]
    },
    {
      "cell_type": "code",
      "metadata": {
        "id": "gKloJWMnWPnP"
      },
      "source": [
        "# we need to make a dictionary to compare the categorical values\n",
        "landcover_categories = {\n",
        "    'trees':{'wc':[10],'clc':[311,312,313],'color':'#006400'},\n",
        "    'shrubland':{'wc':[20],'clc':[323,324],'color':'#ffbb22'},\n",
        "    'grassland':{'wc':[30],'clc':[321,322],'color':'#ffff4c'},\n",
        "    'cropland':{'wc':[40],'clc':[211,212,213,221,222,223,231,241,242,243,244],'color':'#f096ff'},\n",
        "    'built-up':{'wc':[50],'clc':[111,112,121,122,123,124,131,132,133,141,142],'color':'#fa0000'},\n",
        "    'barren':{'wc':[60],'clc':[331,332,334],'color':'#b4b4b4'},\n",
        "    'snow_and_ice':{'wc':[70],'clc':[335],'color':'#f0f0f0'},\n",
        "    'open_water':{'wc':[80],'clc':[511,512,521,522,523],'color':'#0064c8'},\n",
        "    'herbaceous_wetland':{'wc':[90],'clc':[411,412,421,422,423],'color':'#0096a0'},\n",
        "    'mangroves':{'wc':[95],'clc':[],'color':'#00cf75'},\n",
        "    'moss_and_lichen':{'wc':[100],'clc':[444],'color':'#fae6a0'},\n",
        "}"
      ],
      "execution_count": null,
      "outputs": []
    },
    {
      "cell_type": "code",
      "metadata": {
        "id": "R6nsdBIXY9ib"
      },
      "source": [
        "# parse the results\n",
        "results = {}\n",
        "for lc_key,lc_dict in landcover_categories.items():\n",
        "  results[lc_key] = {\n",
        "      'wc':np.isin(lc_wc,lc_dict['wc']).sum(),\n",
        "      'clc':np.isin(lc_clc, lc_dict['clc']).sum(),\n",
        "  }"
      ],
      "execution_count": null,
      "outputs": []
    },
    {
      "cell_type": "code",
      "metadata": {
        "colab": {
          "base_uri": "https://localhost:8080/",
          "height": 326
        },
        "id": "Gzb9RMQoZZx2",
        "outputId": "b81080e3-8cb5-451d-ba1a-983db0a05435"
      },
      "source": [
        "# visualise the results\n",
        "pd.DataFrame(results).plot.bar(stacked=True).legend(loc='lower center', ncol=7, bbox_to_anchor=(0.5,-0.3))"
      ],
      "execution_count": null,
      "outputs": [
        {
          "output_type": "execute_result",
          "data": {
            "text/plain": [
              "<matplotlib.legend.Legend at 0x7f8914408090>"
            ]
          },
          "metadata": {},
          "execution_count": 96
        },
        {
          "output_type": "display_data",
          "data": {
            "image/png": "[encoded data removed]",
            "text/plain": [
              "<Figure size 432x288 with 1 Axes>"
            ]
          },
          "metadata": {
            "needs_background": "light"
          }
        }
      ]
    },
    {
      "cell_type": "markdown",
      "metadata": {
        "id": "iZKfaEy3czUu"
      },
      "source": [
        "❓ How might we interrogate this further?"
      ]
    },
    {
      "cell_type": "markdown",
      "metadata": {
        "id": "vMAqInN60r6W"
      },
      "source": [
        "# Tutorial 4: Spatial Regression"
      ]
    },
    {
      "cell_type": "markdown",
      "metadata": {
        "id": "UxHV-1um3MWU"
      },
      "source": [
        "Let's analyse the previous solar data to try to deduce why some places have been quicker to adopt solar PV than others! We will be following the flow diagram below, which is explained fully in Key Lesson 4.\n",
        "\n",
        "To begin, we'll _spatially join_ our solar data to US states. A spatial join is a database operation for geospatial data which matches spatial data based on their intersecting geometries, i.e. it allows us to map each solar facility to the US state is resides in. We'll also sample some solar irradiation data to use as an independent variable. We'll then try to detect any spatial dependence in the amount of installed solar at the end of 2018.\n",
        "\n",
        "Then, we'll proceed by analysing installed solar PV at the _county_ level, showing the dependence of scale. We will find that [xxx yyy zzz]"
      ]
    },
    {
      "cell_type": "markdown",
      "metadata": {
        "id": "XsIAPvoLlvWx"
      },
      "source": [
        "## 5.A State-Level"
      ]
    },
    {
      "cell_type": "code",
      "metadata": {
        "id": "sowJgqYcHcpc"
      },
      "source": [
        "# first load solar pv facility data\n",
        "gdf = gpd.read_file(os.path.join(root,'solar_pv_predicted_set.geojson'))"
      ],
      "execution_count": null,
      "outputs": []
    },
    {
      "cell_type": "code",
      "metadata": {
        "id": "VM6ql9fp4FN8"
      },
      "source": [
        "# load Natural Earth admin-level-1 data \n",
        "us_state_df =gpd.read_file(os.path.join(root,'ne_10m_admin_1.geojson'))"
      ],
      "execution_count": null,
      "outputs": []
    },
    {
      "cell_type": "code",
      "metadata": {
        "id": "tRd4VbhqCuEJ"
      },
      "source": [
        "# ...and filter for the United States\n",
        "us_state_df = us_state_df.loc[us_state_df['iso_a2']=='US',['iso_3166_2','name','geometry']]"
      ],
      "execution_count": null,
      "outputs": []
    },
    {
      "cell_type": "code",
      "metadata": {
        "colab": {
          "base_uri": "https://localhost:8080/"
        },
        "id": "ym4ltD4fARG5",
        "outputId": "a4b71537-0ba7-412a-e3a4-b08bceecf17a"
      },
      "source": [
        "# spatially join our solar pv data to the US states... we can use centroids to force uniqueness\n",
        "gdf['centroid'] = gdf.geometry.centroid\n",
        "\n",
        "gdf = gdf.set_geometry('centroid')\n",
        "\n",
        "gdf = gpd.sjoin(gdf, us_state_df, how='left')"
      ],
      "execution_count": null,
      "outputs": [
        {
          "output_type": "stream",
          "name": "stderr",
          "text": [
            "/usr/local/lib/python3.7/dist-packages/ipykernel_launcher.py:2: UserWarning: Geometry is in a geographic CRS. Results from 'centroid' are likely incorrect. Use 'GeoSeries.to_crs()' to re-project geometries to a projected CRS before this operation.\n",
            "\n",
            "  \n"
          ]
        }
      ]
    },
    {
      "cell_type": "code",
      "metadata": {
        "id": "qXtXKOyaDQ6k"
      },
      "source": [
        "# drop non-US detections\n",
        "gdf = gdf.loc[~gdf['iso_3166_2'].isna()]"
      ],
      "execution_count": null,
      "outputs": []
    },
    {
      "cell_type": "code",
      "metadata": {
        "id": "OaTt2aCeAbEu"
      },
      "source": [
        "# aggregate our data at the state level, summing generating capacity\n",
        "gdf_agg = gdf[['iso_3166_2','capacity_mw']].groupby('iso_3166_2').sum()"
      ],
      "execution_count": null,
      "outputs": []
    },
    {
      "cell_type": "code",
      "metadata": {
        "id": "Zl0uETrwD-2F"
      },
      "source": [
        "# let's add count \n",
        "gdf_agg['facility_count'] = gdf[['iso_3166_2','name']].groupby('iso_3166_2').size()"
      ],
      "execution_count": null,
      "outputs": []
    },
    {
      "cell_type": "code",
      "metadata": {
        "id": "qd9OgwpcEb1L"
      },
      "source": [
        "# now merge back on our us state dataframe\n",
        "us_state_df = pd.merge(pd.DataFrame(us_state_df), gdf_agg, how='left', left_on='iso_3166_2',right_index=True).fillna(0)"
      ],
      "execution_count": null,
      "outputs": []
    },
    {
      "cell_type": "code",
      "metadata": {
        "id": "GLBy4NV_Ap18"
      },
      "source": [
        "# and cast our dataframe back to a GeoDataFrame\n",
        "us_state_gdf = gpd.GeoDataFrame(us_state_df, geometry='geometry',crs='epsg:4326')"
      ],
      "execution_count": null,
      "outputs": []
    },
    {
      "cell_type": "code",
      "metadata": {
        "colab": {
          "base_uri": "https://localhost:8080/",
          "height": 134
        },
        "id": "IZRNwz8SGAkx",
        "outputId": "7b6dc29f-f0ae-4fc0-e14a-10b8d10aeb6c"
      },
      "source": [
        "us_state_gdf.plot()"
      ],
      "execution_count": null,
      "outputs": [
        {
          "output_type": "execute_result",
          "data": {
            "text/plain": [
              "<matplotlib.axes._subplots.AxesSubplot at 0x7f395d425410>"
            ]
          },
          "metadata": {},
          "execution_count": 25
        },
        {
          "output_type": "display_data",
          "data": {
            "image/png": "[encoded data removed]",
            "text/plain": [
              "<Figure size 432x288 with 1 Axes>"
            ]
          },
          "metadata": {
            "needs_background": "light"
          }
        }
      ]
    },
    {
      "cell_type": "code",
      "metadata": {
        "id": "6vSj4BpfGCJp"
      },
      "source": [
        "# load our econometric features and data munge"
      ],
      "execution_count": null,
      "outputs": []
    },
    {
      "cell_type": "code",
      "metadata": {
        "id": "I0EOcl2QJXjh"
      },
      "source": [
        "county_df = pd.read_csv(os.path.join(root,'county_complete.csv'), delimiter='\\t')"
      ],
      "execution_count": null,
      "outputs": []
    },
    {
      "cell_type": "code",
      "metadata": {
        "id": "R47VsVVjPVxN"
      },
      "source": [
        "mapper = us_state_df[['name','iso_3166_2']].set_index('name').to_dict()"
      ],
      "execution_count": null,
      "outputs": []
    },
    {
      "cell_type": "code",
      "metadata": {
        "id": "V5NHgOfLPjO_"
      },
      "source": [
        "county_df['iso_3166_2'] = county_df['state'].map(mapper['iso_3166_2'])"
      ],
      "execution_count": null,
      "outputs": []
    },
    {
      "cell_type": "code",
      "metadata": {
        "id": "1zn7gRxQQHWl"
      },
      "source": [
        "sum_columns = ['civilian_labor_force_2017','households_2019','pop_2019']\n",
        "weight_mean_columns = ['some_college_2017', 'bachelors_2017',\n",
        "       'veterans_2017', 'mean_work_travel_2017', 'broadband_2017',\n",
        "       'computer_2017', 'metro_2013', 'poverty_2017', 'avg_family_size_2019',\n",
        "       'hs_grad_2019', 'mean_household_income_2019', 'median_age_2019',\n",
        "       'median_household_income_2019', 'per_capita_income_2019',\n",
        "       'persons_per_household_2019', 'unemployment_rate_2019',\n",
        "       'uninsured_2019', 'veterans_2019', 'white_2019', 'non_white_2019']\n",
        "weight_column= 'pop_2019'"
      ],
      "execution_count": null,
      "outputs": []
    },
    {
      "cell_type": "code",
      "metadata": {
        "id": "XPfeR1bQRkNi"
      },
      "source": [
        "state_socioecon_df = county_df[sum_columns+['iso_3166_2']].groupby('iso_3166_2').sum()"
      ],
      "execution_count": null,
      "outputs": []
    },
    {
      "cell_type": "code",
      "metadata": {
        "id": "yDKY_AMCUJFM"
      },
      "source": [
        "state_socioecon_df = state_socioecon_df.join(\n",
        "    county_df.groupby(\"iso_3166_2\").apply(\n",
        "        lambda dfx: (dfx[weight_mean_columns].multiply(dfx[weight_column],axis=0)).sum() / dfx[weight_column].sum()\n",
        "        )\n",
        "    )"
      ],
      "execution_count": null,
      "outputs": []
    },
    {
      "cell_type": "code",
      "metadata": {
        "id": "f2L1S0TNJpYW"
      },
      "source": [
        "us_state_df = us_state_df.set_index('iso_3166_2').join(state_socioecon_df)"
      ],
      "execution_count": null,
      "outputs": []
    },
    {
      "cell_type": "code",
      "metadata": {
        "id": "R9qgquQTJDOR"
      },
      "source": [
        "# spatially sample solar irradiance\n",
        "\n",
        "# load data\n",
        "irradiance_ds = rio.open(os.path.join(root,'nrel_ghi.tif'))"
      ],
      "execution_count": null,
      "outputs": []
    },
    {
      "cell_type": "code",
      "metadata": {
        "id": "NhBvVqP2WCdH"
      },
      "source": [
        "# make a helper function\n",
        "def get_irradiance_mean(geom, ds):\n",
        "\n",
        "  window = rasterio.features.geometry_window(\n",
        "      dataset=ds, \n",
        "      shapes=[geom]\n",
        "  )\n",
        "\n",
        "  window_transform = rio.windows.transform(window=window, transform=ds.transform)\n",
        "\n",
        "  mask = rasterio.features.geometry_mask(\n",
        "      geometries=[geom],\n",
        "      out_shape=(window.height, window.width), \n",
        "      transform=window_transform, \n",
        "      all_touched=False, \n",
        "      invert=True\n",
        "  )\n",
        "\n",
        "  arr = ds.read(1,window=window)\n",
        "\n",
        "  # can take the mean directly because it is per m^2\n",
        "  return arr[mask].mean()"
      ],
      "execution_count": null,
      "outputs": []
    },
    {
      "cell_type": "code",
      "metadata": {
        "id": "GhhTOMMQVQhL"
      },
      "source": [
        "us_state_df['ghi'] = us_state_df['geometry'].apply(lambda geom: get_irradiance_mean(geom, irradiance_ds))"
      ],
      "execution_count": null,
      "outputs": []
    },
    {
      "cell_type": "code",
      "metadata": {
        "id": "VLc9Uk3PW8Bh"
      },
      "source": [
        "us_state_gdf = gpd.GeoDataFrame(us_state_df,geometry='geometry', crs='epsg:4326')"
      ],
      "execution_count": null,
      "outputs": []
    },
    {
      "cell_type": "code",
      "metadata": {
        "colab": {
          "base_uri": "https://localhost:8080/",
          "height": 134
        },
        "id": "gP2C_n-oXAZ4",
        "outputId": "d16bfa28-10cb-4d20-a587-575424586055"
      },
      "source": [
        "# sanity check\n",
        "us_state_gdf.plot(column='ghi')"
      ],
      "execution_count": null,
      "outputs": [
        {
          "output_type": "execute_result",
          "data": {
            "text/plain": [
              "<matplotlib.axes._subplots.AxesSubplot at 0x7f395d3be250>"
            ]
          },
          "metadata": {},
          "execution_count": 38
        },
        {
          "output_type": "display_data",
          "data": {
            "image/png": "[encoded data removed]",
            "text/plain": [
              "<Figure size 432x288 with 1 Axes>"
            ]
          },
          "metadata": {
            "needs_background": "light"
          }
        }
      ]
    },
    {
      "cell_type": "code",
      "metadata": {
        "id": "xj-C0WF-bQyI"
      },
      "source": [
        "# get the spatial weights matrix - use Queen adjacency\n",
        "from libpysal.weights import Queen"
      ],
      "execution_count": null,
      "outputs": []
    },
    {
      "cell_type": "code",
      "metadata": {
        "colab": {
          "base_uri": "https://localhost:8080/"
        },
        "id": "QBfJvRAQbYSs",
        "outputId": "9d308155-932e-4fff-c04c-b56bb4a0e21d"
      },
      "source": [
        "w = Queen.from_dataframe(us_state_gdf)"
      ],
      "execution_count": null,
      "outputs": [
        {
          "output_type": "stream",
          "name": "stderr",
          "text": [
            "/usr/local/lib/python3.7/dist-packages/libpysal/weights/_contW_lists.py:31: ShapelyDeprecationWarning: Iteration over multi-part geometries is deprecated and will be removed in Shapely 2.0. Use the `geoms` property to access the constituent parts of a multi-part geometry.\n",
            "  return list(it.chain(*(_get_boundary_points(part.boundary) for part in shape)))\n",
            "/usr/local/lib/python3.7/dist-packages/libpysal/weights/weights.py:172: UserWarning: The weights matrix is not fully connected: \n",
            " There are 3 disconnected components.\n",
            " There are 2 islands with ids: 16, 33.\n",
            "  warnings.warn(message)\n"
          ]
        }
      ]
    },
    {
      "cell_type": "code",
      "metadata": {
        "id": "T5xRD0reYQNj"
      },
      "source": [
        "chosen_variables = ['pop_2019','per_capita_income_2019','metro_2013','ghi']"
      ],
      "execution_count": null,
      "outputs": []
    },
    {
      "cell_type": "code",
      "metadata": {
        "id": "caGMM6_gb9Sc"
      },
      "source": [
        "Y = us_state_gdf[['capacity_mw']].values\n",
        "X = us_state_gdf[chosen_variables].values"
      ],
      "execution_count": null,
      "outputs": []
    },
    {
      "cell_type": "code",
      "metadata": {
        "id": "-Dn8T5e2bjT6"
      },
      "source": [
        "# run spatial diagnostics\n",
        "m1 = spreg.OLS(Y, X, w=w, spat_diag=True, name_x=chosen_variables, name_y='capacity_mw')"
      ],
      "execution_count": null,
      "outputs": []
    },
    {
      "cell_type": "code",
      "metadata": {
        "colab": {
          "base_uri": "https://localhost:8080/"
        },
        "id": "0CBxaCtRcbw1",
        "outputId": "f7a1a179-34ee-4716-f849-ef667c1ca51d"
      },
      "source": [
        "print(m1.summary)"
      ],
      "execution_count": null,
      "outputs": [
        {
          "output_type": "stream",
          "name": "stdout",
          "text": [
            "REGRESSION\n",
            "----------\n",
            "SUMMARY OF OUTPUT: ORDINARY LEAST SQUARES\n",
            "-----------------------------------------\n",
            "Data set            :     unknown\n",
            "Weights matrix      :     unknown\n",
            "Dependent Variable  :ln(capacity_mw)                Number of Observations:          51\n",
            "Mean dependent var  :   1061.6555                Number of Variables   :           5\n",
            "S.D. dependent var  :   3034.3080                Degrees of Freedom    :          46\n",
            "R-squared           :      0.5593\n",
            "Adjusted R-squared  :      0.5210\n",
            "Sum squared residual:202870434.059                F-statistic           :     14.5957\n",
            "Sigma-square        : 4410226.827                Prob(F-statistic)     :   9.055e-08\n",
            "S.E. of regression  :    2100.054                Log likelihood        :    -459.870\n",
            "Sigma-square ML     : 3977851.648                Akaike info criterion :     929.741\n",
            "S.E of regression ML:   1994.4552                Schwarz criterion     :     939.400\n",
            "\n",
            "------------------------------------------------------------------------------------\n",
            "            Variable     Coefficient       Std.Error     t-Statistic     Probability\n",
            "------------------------------------------------------------------------------------\n",
            "            CONSTANT    -8604.4536837    3665.2991630      -2.3475447       0.0232555\n",
            "            pop_2019       0.0002862       0.0000470       6.0874938       0.0000002\n",
            "per_capita_income_2019       0.0986127       0.0675886       1.4590141       0.1513565\n",
            "          metro_2013    -3138.0286614    2207.4620996      -1.4215549       0.1619002\n",
            "                 ghi    1575.1004092     611.1168091       2.5774130       0.0132250\n",
            "------------------------------------------------------------------------------------\n",
            "\n",
            "REGRESSION DIAGNOSTICS\n",
            "MULTICOLLINEARITY CONDITION NUMBER           34.095\n",
            "\n",
            "TEST ON NORMALITY OF ERRORS\n",
            "TEST                             DF        VALUE           PROB\n",
            "Jarque-Bera                       2         141.795           0.0000\n",
            "\n",
            "DIAGNOSTICS FOR HETEROSKEDASTICITY\n",
            "RANDOM COEFFICIENTS\n",
            "TEST                             DF        VALUE           PROB\n",
            "Breusch-Pagan test                4         225.105           0.0000\n",
            "Koenker-Bassett test              4          46.867           0.0000\n",
            "\n",
            "DIAGNOSTICS FOR SPATIAL DEPENDENCE\n",
            "TEST                           MI/DF       VALUE           PROB\n",
            "Lagrange Multiplier (lag)         1           3.473           0.0624\n",
            "Robust LM (lag)                   1           0.073           0.7867\n",
            "Lagrange Multiplier (error)       1           3.819           0.0507\n",
            "Robust LM (error)                 1           0.420           0.5171\n",
            "Lagrange Multiplier (SARMA)       2           3.892           0.1428\n",
            "\n",
            "================================ END OF REPORT =====================================\n"
          ]
        }
      ]
    },
    {
      "cell_type": "markdown",
      "metadata": {
        "id": "oQ84To0ekiSp"
      },
      "source": [
        "Neither the lag nor error LM are significant. We can use our OLS model as it is, but we'll want to find better explanatory variables to improve our R<sup>2</sup>."
      ]
    },
    {
      "cell_type": "markdown",
      "metadata": {
        "id": "qhqAeBLhpjvq"
      },
      "source": [
        "## 5.B County-Level"
      ]
    },
    {
      "cell_type": "code",
      "metadata": {
        "id": "gGVVnrm6fAKl"
      },
      "source": [
        "# first load solar pv facility data\n",
        "gdf = gpd.read_file(os.path.join(root,'solar_pv_predicted_set.geojson'))"
      ],
      "execution_count": null,
      "outputs": []
    },
    {
      "cell_type": "code",
      "metadata": {
        "id": "c3fq6eK-qtTw"
      },
      "source": [
        "# load us counties\n",
        "counties_gdf = gpd.read_file(os.path.join(root,'us_counties.geojson'))"
      ],
      "execution_count": null,
      "outputs": []
    },
    {
      "cell_type": "code",
      "metadata": {
        "colab": {
          "base_uri": "https://localhost:8080/"
        },
        "id": "PUwarDMRrH4c",
        "outputId": "37ead557-a751-4e08-87f5-f696905d621b"
      },
      "source": [
        "# spatially join our solar pv data to the US states... we can use centroids to force uniqueness\n",
        "gdf['centroid'] = gdf.geometry.centroid\n",
        "\n",
        "gdf = gdf.set_geometry('centroid')\n",
        "\n",
        "gdf = gpd.sjoin(gdf, counties_gdf[['FIPS','NAME','geometry']], how='left')"
      ],
      "execution_count": null,
      "outputs": [
        {
          "output_type": "stream",
          "name": "stderr",
          "text": [
            "/usr/local/lib/python3.7/dist-packages/ipykernel_launcher.py:2: UserWarning: Geometry is in a geographic CRS. Results from 'centroid' are likely incorrect. Use 'GeoSeries.to_crs()' to re-project geometries to a projected CRS before this operation.\n",
            "\n",
            "  \n"
          ]
        }
      ]
    },
    {
      "cell_type": "code",
      "metadata": {
        "id": "JqIRmHDer3xn"
      },
      "source": [
        "# drop non-US detections\n",
        "gdf = gdf.loc[~gdf['FIPS'].isna()]\n",
        "\n",
        "# aggregate our data at the state level, summing generating capacity\n",
        "gdf_agg = gdf[['FIPS','capacity_mw']].groupby('FIPS').sum()\n",
        "\n",
        "# let's add count \n",
        "gdf_agg['facility_count'] = gdf[['FIPS']].groupby('FIPS').size()\n",
        "\n",
        "# now merge back on our us state dataframe\n",
        "counties_gdf = pd.merge(pd.DataFrame(counties_gdf), gdf_agg, how='left', left_on='FIPS',right_index=True).fillna(0)\n",
        "\n",
        "# and cast our dataframe back to a GeoDataFrame\n",
        "counties_gdf = gpd.GeoDataFrame(counties_gdf, geometry='geometry',crs='epsg:4326')"
      ],
      "execution_count": null,
      "outputs": []
    },
    {
      "cell_type": "code",
      "metadata": {
        "colab": {
          "base_uri": "https://localhost:8080/"
        },
        "id": "82kA0s-LsY1g",
        "outputId": "96bfc39c-bed9-481b-8b08-cd26889ecdc0"
      },
      "source": [
        "counties_gdf.columns"
      ],
      "execution_count": null,
      "outputs": [
        {
          "output_type": "execute_result",
          "data": {
            "text/plain": [
              "Index(['FID', 'OBJECTID', 'NAME', 'STATE_NAME', 'STATE_FIPS', 'CNTY_FIPS',\n",
              "       'FIPS', 'POPULATION', 'POP_SQMI', 'POP2010', 'POP10_SQMI', 'WHITE',\n",
              "       'BLACK', 'AMERI_ES', 'ASIAN', 'HAWN_PI', 'HISPANIC', 'OTHER',\n",
              "       'MULT_RACE', 'MALES', 'FEMALES', 'AGE_UNDER5', 'AGE_5_9', 'AGE_10_14',\n",
              "       'AGE_15_19', 'AGE_20_24', 'AGE_25_34', 'AGE_35_44', 'AGE_45_54',\n",
              "       'AGE_55_64', 'AGE_65_74', 'AGE_75_84', 'AGE_85_UP', 'MED_AGE',\n",
              "       'MED_AGE_M', 'MED_AGE_F', 'HOUSEHOLDS', 'AVE_HH_SZ', 'HSEHLD_1_M',\n",
              "       'HSEHLD_1_F', 'MARHH_CHD', 'MARHH_NO_C', 'MHH_CHILD', 'FHH_CHILD',\n",
              "       'FAMILIES', 'AVE_FAM_SZ', 'HSE_UNITS', 'VACANT', 'OWNER_OCC',\n",
              "       'RENTER_OCC', 'NO_FARMS12', 'AVE_SIZE12', 'CROP_ACR12', 'AVE_SALE12',\n",
              "       'SQMI', 'NO_FARMS17', 'AVE_SIZE17', 'CROP_ACR17', 'AVE_SALE17',\n",
              "       'SHAPE_Length', 'SHAPE_Area', 'geometry', 'capacity_mw',\n",
              "       'facility_count'],\n",
              "      dtype='object')"
            ]
          },
          "metadata": {},
          "execution_count": 72
        }
      ]
    },
    {
      "cell_type": "code",
      "metadata": {
        "id": "J3S1u4pvtOAw"
      },
      "source": [
        "county_df = pd.read_csv(os.path.join(root,'county_complete.csv'), delimiter='\\t')"
      ],
      "execution_count": null,
      "outputs": []
    },
    {
      "cell_type": "code",
      "metadata": {
        "id": "LqETnvu0t5XH"
      },
      "source": [
        "counties_gdf['FIPS'] = counties_gdf.FIPS.astype(int)"
      ],
      "execution_count": null,
      "outputs": []
    },
    {
      "cell_type": "code",
      "metadata": {
        "id": "hb7e6A70tqGM"
      },
      "source": [
        "county_df = pd.merge(county_df, counties_gdf[['FIPS','geometry','capacity_mw','facility_count']],  how='left',left_on='fips',right_on='FIPS')"
      ],
      "execution_count": null,
      "outputs": []
    },
    {
      "cell_type": "code",
      "metadata": {
        "id": "yCmBxYHfuaI2"
      },
      "source": [
        "# load data\n",
        "irradiance_ds = rio.open(os.path.join(root,'nrel_ghi.tif'))\n",
        "\n",
        "# make a helper function\n",
        "def get_irradiance_mean(geom, ds):\n",
        "\n",
        "  try:\n",
        "\n",
        "    window = rasterio.features.geometry_window(\n",
        "        dataset=ds, \n",
        "        shapes=[geom]\n",
        "    )\n",
        "\n",
        "    window_transform = rio.windows.transform(window=window, transform=ds.transform)\n",
        "\n",
        "    mask = rasterio.features.geometry_mask(\n",
        "        geometries=[geom],\n",
        "        out_shape=(window.height, window.width), \n",
        "        transform=window_transform, \n",
        "        all_touched=False, \n",
        "        invert=True\n",
        "    )\n",
        "\n",
        "    arr = ds.read(1,window=window)\n",
        "\n",
        "    # can take the mean directly because it is per m^2\n",
        "    return arr[mask].mean()\n",
        "  except:\n",
        "    return np.nan"
      ],
      "execution_count": null,
      "outputs": []
    },
    {
      "cell_type": "code",
      "metadata": {
        "colab": {
          "base_uri": "https://localhost:8080/"
        },
        "id": "ATGcRrfmudGH",
        "outputId": "03f7d7ae-1983-491b-91f1-a2ca467ca05a"
      },
      "source": [
        "county_df['ghi'] = county_df['geometry'].apply(lambda geom: get_irradiance_mean(geom, irradiance_ds))"
      ],
      "execution_count": null,
      "outputs": [
        {
          "output_type": "stream",
          "name": "stderr",
          "text": [
            "/usr/local/lib/python3.7/dist-packages/ipykernel_launcher.py:27: RuntimeWarning: Mean of empty slice.\n"
          ]
        }
      ]
    },
    {
      "cell_type": "code",
      "metadata": {
        "id": "K3f6b59kumew"
      },
      "source": [
        "county_df = county_df.loc[~county_df['ghi'].isna()] # drop na"
      ],
      "execution_count": null,
      "outputs": []
    },
    {
      "cell_type": "code",
      "metadata": {
        "id": "I-CPTvwduiMZ"
      },
      "source": [
        "county_df = gpd.GeoDataFrame(county_df,geometry='geometry', crs='epsg:4326')"
      ],
      "execution_count": null,
      "outputs": []
    },
    {
      "cell_type": "code",
      "metadata": {
        "colab": {
          "base_uri": "https://localhost:8080/",
          "height": 120
        },
        "id": "rl_jdQymvPt_",
        "outputId": "71ff5848-282c-4055-db42-ca1487675d10"
      },
      "source": [
        "county_df.plot(column='ghi')"
      ],
      "execution_count": null,
      "outputs": [
        {
          "output_type": "execute_result",
          "data": {
            "text/plain": [
              "<matplotlib.axes._subplots.AxesSubplot at 0x7f395d144210>"
            ]
          },
          "metadata": {},
          "execution_count": 93
        },
        {
          "output_type": "display_data",
          "data": {
            "image/png": "[encoded data removed]",
            "text/plain": [
              "<Figure size 432x288 with 1 Axes>"
            ]
          },
          "metadata": {
            "needs_background": "light"
          }
        }
      ]
    },
    {
      "cell_type": "code",
      "metadata": {
        "id": "J8QE_LMxvV_L"
      },
      "source": [
        "# get the spatial weights matrix - use Queen adjacency\n",
        "from libpysal.weights import Queen"
      ],
      "execution_count": null,
      "outputs": []
    },
    {
      "cell_type": "code",
      "metadata": {
        "colab": {
          "base_uri": "https://localhost:8080/"
        },
        "id": "kseQhDv1vXOq",
        "outputId": "fdad1f5e-1401-43c2-de81-a7fda7eb4ef3"
      },
      "source": [
        "w = Queen.from_dataframe(county_df)"
      ],
      "execution_count": null,
      "outputs": [
        {
          "output_type": "stream",
          "name": "stderr",
          "text": [
            "/usr/local/lib/python3.7/dist-packages/libpysal/weights/_contW_lists.py:31: ShapelyDeprecationWarning: Iteration over multi-part geometries is deprecated and will be removed in Shapely 2.0. Use the `geoms` property to access the constituent parts of a multi-part geometry.\n",
            "  return list(it.chain(*(_get_boundary_points(part.boundary) for part in shape)))\n",
            "/usr/local/lib/python3.7/dist-packages/libpysal/weights/_contW_lists.py:29: ShapelyDeprecationWarning: Iteration over multi-part geometries is deprecated and will be removed in Shapely 2.0. Use the `geoms` property to access the constituent parts of a multi-part geometry.\n",
            "  return list(it.chain(*(list(zip(*shape.coords.xy)) for shape in shape)))\n",
            "/usr/local/lib/python3.7/dist-packages/libpysal/weights/weights.py:172: UserWarning: The weights matrix is not fully connected: \n",
            " There are 11 disconnected components.\n",
            " There are 8 islands with ids: 68, 536, 537, 539, 1210, 1216, 1860, 2967.\n",
            "  warnings.warn(message)\n"
          ]
        }
      ]
    },
    {
      "cell_type": "code",
      "metadata": {
        "id": "mt52SAk2vY6B"
      },
      "source": [
        "chosen_variables = ['pop_2019','per_capita_income_2019','metro_2013','ghi']"
      ],
      "execution_count": null,
      "outputs": []
    },
    {
      "cell_type": "code",
      "metadata": {
        "id": "ZAiLQNf2wSrw"
      },
      "source": [
        "county_df = pd.merge(county_df, counties_gdf[['FIPS','capacity_mw','facility_count']],  how='left',left_on='fips',right_on='FIPS')"
      ],
      "execution_count": null,
      "outputs": []
    },
    {
      "cell_type": "code",
      "metadata": {
        "id": "BYC5KW3yvbz_"
      },
      "source": [
        "Y = county_df[['capacity_mw']].values\n",
        "X = county_df[chosen_variables].fillna(0).values"
      ],
      "execution_count": null,
      "outputs": []
    },
    {
      "cell_type": "code",
      "metadata": {
        "id": "lSBejOk8vdWO"
      },
      "source": [
        "# OLS while also running spatial diagnostics\n",
        "m2 = spreg.OLS(Y, X, w=w, spat_diag=True, name_x=chosen_variables, name_y='capacity_mw')"
      ],
      "execution_count": null,
      "outputs": []
    },
    {
      "cell_type": "code",
      "metadata": {
        "colab": {
          "base_uri": "https://localhost:8080/"
        },
        "id": "YM75WvYIv6gb",
        "outputId": "fc87a17b-6076-4fa7-fcb9-bd99f31f7578"
      },
      "source": [
        "print (m2.summary)"
      ],
      "execution_count": null,
      "outputs": [
        {
          "output_type": "stream",
          "name": "stdout",
          "text": [
            "REGRESSION\n",
            "----------\n",
            "SUMMARY OF OUTPUT: ORDINARY LEAST SQUARES\n",
            "-----------------------------------------\n",
            "Data set            :     unknown\n",
            "Weights matrix      :     unknown\n",
            "Dependent Variable  : capacity_mw                Number of Observations:        3129\n",
            "Mean dependent var  :     17.3097                Number of Variables   :           5\n",
            "S.D. dependent var  :    141.2624                Degrees of Freedom    :        3124\n",
            "R-squared           :      0.1660\n",
            "Adjusted R-squared  :      0.1650\n",
            "Sum squared residual:52056260.189                F-statistic           :    155.4791\n",
            "Sigma-square        :   16663.336                Prob(F-statistic)     :  1.805e-121\n",
            "S.E. of regression  :     129.087                Log likelihood        :  -19645.808\n",
            "Sigma-square ML     :   16636.708                Akaike info criterion :   39301.616\n",
            "S.E of regression ML:    128.9834                Schwarz criterion     :   39331.859\n",
            "\n",
            "------------------------------------------------------------------------------------\n",
            "            Variable     Coefficient       Std.Error     t-Statistic     Probability\n",
            "------------------------------------------------------------------------------------\n",
            "            CONSTANT    -134.3434268      26.9151340      -4.9913713       0.0000006\n",
            "            pop_2019       0.0001623       0.0000075      21.5748706       0.0000000\n",
            "per_capita_income_2019      -0.0015149       0.0003918      -3.8662776       0.0001128\n",
            "          metro_2013      -2.7699445       5.3127131      -0.5213804       0.6021388\n",
            "                 ghi      39.8831561       4.8861389       8.1625096       0.0000000\n",
            "------------------------------------------------------------------------------------\n",
            "\n",
            "REGRESSION DIAGNOSTICS\n",
            "MULTICOLLINEARITY CONDITION NUMBER           28.527\n",
            "\n",
            "TEST ON NORMALITY OF ERRORS\n",
            "TEST                             DF        VALUE           PROB\n",
            "Jarque-Bera                       2    48670632.799           0.0000\n",
            "\n",
            "DIAGNOSTICS FOR HETEROSKEDASTICITY\n",
            "RANDOM COEFFICIENTS\n",
            "TEST                             DF        VALUE           PROB\n",
            "Breusch-Pagan test                4       13133.567           0.0000\n",
            "Koenker-Bassett test              4          42.941           0.0000\n",
            "\n",
            "DIAGNOSTICS FOR SPATIAL DEPENDENCE\n",
            "TEST                           MI/DF       VALUE           PROB\n",
            "Lagrange Multiplier (lag)         1        1428.860           0.0000\n",
            "Robust LM (lag)                   1         273.241           0.0000\n",
            "Lagrange Multiplier (error)       1        1186.873           0.0000\n",
            "Robust LM (error)                 1          31.255           0.0000\n",
            "Lagrange Multiplier (SARMA)       2        1460.115           0.0000\n",
            "\n",
            "================================ END OF REPORT =====================================\n"
          ]
        }
      ]
    },
    {
      "cell_type": "markdown",
      "metadata": {
        "id": "DwNuanyExLc7"
      },
      "source": [
        "Okay! Lots to work with here. Let's specify the model further."
      ]
    },
    {
      "cell_type": "code",
      "metadata": {
        "id": "8jHNcOEFw-S8"
      },
      "source": [
        "for variable in chosen_variables:\n",
        "  county_df['w_'+variable] = spreg.lag_spatial(w, county_df[variable].fillna(0).values)"
      ],
      "execution_count": null,
      "outputs": []
    },
    {
      "cell_type": "code",
      "metadata": {
        "id": "Bhgf9xIrx_xR"
      },
      "source": [
        "lagged_vars = ['w_'+variable for variable in chosen_variables]"
      ],
      "execution_count": null,
      "outputs": []
    },
    {
      "cell_type": "code",
      "metadata": {
        "id": "QHU23R87zcGZ"
      },
      "source": [
        "Y = county_df[['capacity_mw']].values\n",
        "X = county_df[chosen_variables+lagged_vars].fillna(0).values"
      ],
      "execution_count": null,
      "outputs": []
    },
    {
      "cell_type": "code",
      "metadata": {
        "id": "ueWxJFngzf1w"
      },
      "source": [
        "# OLS while also running spatial diagnostics\n",
        "m3 = spreg.OLS(Y, X, w=w, spat_diag=True, name_x=chosen_variables+lagged_vars, name_y='capacity_mw')"
      ],
      "execution_count": null,
      "outputs": []
    },
    {
      "cell_type": "code",
      "metadata": {
        "colab": {
          "base_uri": "https://localhost:8080/"
        },
        "id": "fxiq9Yrgzldl",
        "outputId": "7ba3684f-a68e-4da3-a380-bbae6e40f81f"
      },
      "source": [
        "print(m3.summary)"
      ],
      "execution_count": null,
      "outputs": [
        {
          "output_type": "stream",
          "name": "stdout",
          "text": [
            "REGRESSION\n",
            "----------\n",
            "SUMMARY OF OUTPUT: ORDINARY LEAST SQUARES\n",
            "-----------------------------------------\n",
            "Data set            :     unknown\n",
            "Weights matrix      :     unknown\n",
            "Dependent Variable  : capacity_mw                Number of Observations:        3129\n",
            "Mean dependent var  :     17.3097                Number of Variables   :           9\n",
            "S.D. dependent var  :    141.2624                Degrees of Freedom    :        3120\n",
            "R-squared           :      0.2473\n",
            "Adjusted R-squared  :      0.2453\n",
            "Sum squared residual:46984508.010                F-statistic           :    128.1195\n",
            "Sigma-square        :   15059.137                Prob(F-statistic)     :  3.428e-186\n",
            "S.E. of regression  :     122.716                Log likelihood        :  -19485.436\n",
            "Sigma-square ML     :   15015.822                Akaike info criterion :   38988.871\n",
            "S.E of regression ML:    122.5391                Schwarz criterion     :   39043.308\n",
            "\n",
            "------------------------------------------------------------------------------------\n",
            "            Variable     Coefficient       Std.Error     t-Statistic     Probability\n",
            "------------------------------------------------------------------------------------\n",
            "            CONSTANT     -29.3505752      29.3987711      -0.9983606       0.3181819\n",
            "            pop_2019       0.0001035       0.0000079      13.0481226       0.0000000\n",
            "per_capita_income_2019      -0.0024661       0.0004568      -5.3990016       0.0000001\n",
            "          metro_2013      -5.5472269       5.8851010      -0.9425882       0.3459645\n",
            "                 ghi      18.3007404       7.0368378       2.6007052       0.0093472\n",
            "          w_pop_2019       0.0000521       0.0000029      18.2727022       0.0000000\n",
            "w_per_capita_income_2019      -0.0000920       0.0001097      -0.8378806       0.4021619\n",
            "        w_metro_2013      -9.1385860       1.7459087      -5.2342862       0.0000002\n",
            "               w_ghi       1.1378650       0.7521287       1.5128595       0.1304166\n",
            "------------------------------------------------------------------------------------\n",
            "\n",
            "REGRESSION DIAGNOSTICS\n",
            "MULTICOLLINEARITY CONDITION NUMBER           53.270\n",
            "\n",
            "TEST ON NORMALITY OF ERRORS\n",
            "TEST                             DF        VALUE           PROB\n",
            "Jarque-Bera                       2    26491832.283           0.0000\n",
            "\n",
            "DIAGNOSTICS FOR HETEROSKEDASTICITY\n",
            "RANDOM COEFFICIENTS\n",
            "TEST                             DF        VALUE           PROB\n",
            "Breusch-Pagan test                8      128313.886           0.0000\n",
            "Koenker-Bassett test              8         568.210           0.0000\n",
            "\n",
            "DIAGNOSTICS FOR SPATIAL DEPENDENCE\n",
            "TEST                           MI/DF       VALUE           PROB\n",
            "Lagrange Multiplier (lag)         1         931.800           0.0000\n",
            "Robust LM (lag)                   1         347.897           0.0000\n",
            "Lagrange Multiplier (error)       1         731.056           0.0000\n",
            "Robust LM (error)                 1         147.153           0.0000\n",
            "Lagrange Multiplier (SARMA)       2        1078.953           0.0000\n",
            "\n",
            "================================ END OF REPORT =====================================\n"
          ]
        }
      ]
    },
    {
      "cell_type": "code",
      "metadata": {
        "id": "90gR2laezpTY"
      },
      "source": [
        "# add dummy variables for the state\n",
        "county_df = pd.merge(county_df,pd.get_dummies(county_df['state']),how='left', left_index=True, right_index=True)"
      ],
      "execution_count": null,
      "outputs": []
    },
    {
      "cell_type": "code",
      "metadata": {
        "id": "Bv2NpP-81wEb"
      },
      "source": [
        "biggest_states = county_df.groupby('state')['capacity_mw'].sum().sort_values(ascending=False).iloc[:20].index.tolist()"
      ],
      "execution_count": null,
      "outputs": []
    },
    {
      "cell_type": "code",
      "metadata": {
        "id": "7Qt5GLYT0nW5"
      },
      "source": [
        "Y = county_df[['capacity_mw']].values\n",
        "X = county_df[chosen_variables+lagged_vars+biggest_states].fillna(0).values"
      ],
      "execution_count": null,
      "outputs": []
    },
    {
      "cell_type": "code",
      "metadata": {
        "id": "XcSKJzBS0yNq"
      },
      "source": [
        "# OLS while also running spatial diagnostics\n",
        "m4 = spreg.OLS(Y, X, w=w, spat_diag=True, name_x=chosen_variables+lagged_vars+biggest_states, name_y='capacity_mw')"
      ],
      "execution_count": null,
      "outputs": []
    },
    {
      "cell_type": "code",
      "metadata": {
        "colab": {
          "base_uri": "https://localhost:8080/"
        },
        "id": "KlLUDWmS1KYv",
        "outputId": "de247a4f-456d-4bb2-e722-8a55a8ccd417"
      },
      "source": [
        "print (m4.summary)"
      ],
      "execution_count": null,
      "outputs": [
        {
          "output_type": "stream",
          "name": "stdout",
          "text": [
            "REGRESSION\n",
            "----------\n",
            "SUMMARY OF OUTPUT: ORDINARY LEAST SQUARES\n",
            "-----------------------------------------\n",
            "Data set            :     unknown\n",
            "Weights matrix      :     unknown\n",
            "Dependent Variable  : capacity_mw                Number of Observations:        3129\n",
            "Mean dependent var  :     17.3097                Number of Variables   :          29\n",
            "S.D. dependent var  :    141.2624                Degrees of Freedom    :        3100\n",
            "R-squared           :      0.2988\n",
            "Adjusted R-squared  :      0.2925\n",
            "Sum squared residual:43767945.516                F-statistic           :     47.1804\n",
            "Sigma-square        :   14118.692                Prob(F-statistic)     :  8.714e-215\n",
            "S.E. of regression  :     118.822                Log likelihood        :  -19374.487\n",
            "Sigma-square ML     :   13987.838                Akaike info criterion :   38806.975\n",
            "S.E of regression ML:    118.2702                Schwarz criterion     :   38982.380\n",
            "\n",
            "------------------------------------------------------------------------------------\n",
            "            Variable     Coefficient       Std.Error     t-Statistic     Probability\n",
            "------------------------------------------------------------------------------------\n",
            "            CONSTANT      17.8298473      36.2642555       0.4916645       0.6229913\n",
            "            pop_2019       0.0000998       0.0000077      12.9297365       0.0000000\n",
            "per_capita_income_2019      -0.0027418       0.0004486      -6.1119871       0.0000000\n",
            "          metro_2013      -1.2478768       5.7230584      -0.2180437       0.8274094\n",
            "                 ghi       7.6799405       8.5691248       0.8962339       0.3701974\n",
            "          w_pop_2019       0.0000444       0.0000030      14.9736783       0.0000000\n",
            "w_per_capita_income_2019      -0.0002922       0.0001110      -2.6324251       0.0085198\n",
            "        w_metro_2013      -7.3835573       1.7586427      -4.1984407       0.0000276\n",
            "               w_ghi       2.5172713       0.7604462       3.3102555       0.0009428\n",
            "          California     188.3679583      18.6578769      10.0958946       0.0000000\n",
            "      North Carolina      34.1408468      12.4640055       2.7391553       0.0061950\n",
            "              Nevada     183.9430122      29.7925620       6.1741253       0.0000000\n",
            "             Arizona      39.7081546      33.0624933       1.2010030       0.2298418\n",
            "               Texas     -32.9515693       9.8777194      -3.3359491       0.0008601\n",
            "                Utah      32.4536674      22.6930201       1.4301167       0.1527843\n",
            "             Florida     -53.2019502      16.0272133      -3.3194760       0.0009123\n",
            "             Georgia     -11.9293655      10.6350777      -1.1216999       0.2620769\n",
            "       Massachusetts      67.6591733      32.4659198       2.0840060       0.0372413\n",
            "            Colorado      12.9998167      16.1791019       0.8034943       0.4217507\n",
            "          New Mexico     -10.6570632      22.5706880      -0.4721639       0.6368431\n",
            "          New Jersey      22.8147897      26.9082083       0.8478747       0.3965732\n",
            "           Minnesota      36.9341414      13.3941066       2.7574920       0.0058588\n",
            "               Idaho      10.5209146      18.1520745       0.5795985       0.5622275\n",
            "            Virginia      28.0507079      11.2210006       2.4998402       0.0124762\n",
            "            New York      -8.1395487      15.7125314      -0.5180291       0.6044749\n",
            "      South Carolina     -17.4481048      18.1712010      -0.9602065       0.3370262\n",
            "              Oregon       8.4437854      20.0583163       0.4209618       0.6738121\n",
            "            Maryland      15.9772059      24.9226700       0.6410712       0.5215238\n",
            "             Alabama     -21.2804515      15.2540754      -1.3950666       0.1630957\n",
            "------------------------------------------------------------------------------------\n",
            "\n",
            "REGRESSION DIAGNOSTICS\n",
            "MULTICOLLINEARITY CONDITION NUMBER           67.384\n",
            "\n",
            "TEST ON NORMALITY OF ERRORS\n",
            "TEST                             DF        VALUE           PROB\n",
            "Jarque-Bera                       2    27867073.058           0.0000\n",
            "\n",
            "DIAGNOSTICS FOR HETEROSKEDASTICITY\n",
            "RANDOM COEFFICIENTS\n",
            "TEST                             DF        VALUE           PROB\n",
            "Breusch-Pagan test               28      145824.258           0.0000\n",
            "Koenker-Bassett test             28         629.546           0.0000\n",
            "\n",
            "DIAGNOSTICS FOR SPATIAL DEPENDENCE\n",
            "TEST                           MI/DF       VALUE           PROB\n",
            "Lagrange Multiplier (lag)         1         665.234           0.0000\n",
            "Robust LM (lag)                   1         274.056           0.0000\n",
            "Lagrange Multiplier (error)       1         505.392           0.0000\n",
            "Robust LM (error)                 1         114.215           0.0000\n",
            "Lagrange Multiplier (SARMA)       2         779.448           0.0000\n",
            "\n",
            "================================ END OF REPORT =====================================\n"
          ]
        }
      ]
    },
    {
      "cell_type": "code",
      "metadata": {
        "colab": {
          "base_uri": "https://localhost:8080/"
        },
        "id": "OTHDLbHP2lid",
        "outputId": "cd069ade-4e9c-4597-9e00-c6e7543eb115"
      },
      "source": [
        "w.transform = 'R'"
      ],
      "execution_count": null,
      "outputs": [
        {
          "output_type": "stream",
          "name": "stdout",
          "text": [
            "('WARNING: ', 68, ' is an island (no neighbors)')\n",
            "('WARNING: ', 536, ' is an island (no neighbors)')\n",
            "('WARNING: ', 537, ' is an island (no neighbors)')\n",
            "('WARNING: ', 539, ' is an island (no neighbors)')\n",
            "('WARNING: ', 1210, ' is an island (no neighbors)')\n",
            "('WARNING: ', 1216, ' is an island (no neighbors)')\n",
            "('WARNING: ', 1860, ' is an island (no neighbors)')\n",
            "('WARNING: ', 2967, ' is an island (no neighbors)')\n"
          ]
        }
      ]
    },
    {
      "cell_type": "code",
      "metadata": {
        "id": "Cl8aEbKc1baR"
      },
      "source": [
        "m5 = spreg.GM_Lag(Y, X, w=w, spat_diag=True, name_x=chosen_variables+lagged_vars+biggest_states, name_y='capacity_mw')"
      ],
      "execution_count": null,
      "outputs": []
    },
    {
      "cell_type": "code",
      "metadata": {
        "colab": {
          "base_uri": "https://localhost:8080/"
        },
        "id": "XAEq_pMF2jsa",
        "outputId": "9d6e1f73-7b60-4c10-abd9-f6150dcd01ea"
      },
      "source": [
        "print (m5.summary)"
      ],
      "execution_count": null,
      "outputs": [
        {
          "output_type": "stream",
          "name": "stdout",
          "text": [
            "REGRESSION\n",
            "----------\n",
            "SUMMARY OF OUTPUT: SPATIAL TWO STAGE LEAST SQUARES\n",
            "--------------------------------------------------\n",
            "Data set            :     unknown\n",
            "Weights matrix      :     unknown\n",
            "Dependent Variable  : capacity_mw                Number of Observations:        3129\n",
            "Mean dependent var  :     17.3097                Number of Variables   :          30\n",
            "S.D. dependent var  :    141.2624                Degrees of Freedom    :        3099\n",
            "Pseudo R-squared    :      0.3695\n",
            "Spatial Pseudo R-squared:  0.2923\n",
            "\n",
            "------------------------------------------------------------------------------------\n",
            "            Variable     Coefficient       Std.Error     z-Statistic     Probability\n",
            "------------------------------------------------------------------------------------\n",
            "            CONSTANT      35.2899003      34.2779059       1.0295232       0.3032339\n",
            "            pop_2019       0.0000835       0.0000075      11.1690984       0.0000000\n",
            "per_capita_income_2019      -0.0021694       0.0004274      -5.0755690       0.0000004\n",
            "          metro_2013       1.4184950       5.4091201       0.2622414       0.7931354\n",
            "                 ghi      -2.2336861       8.1514642      -0.2740227       0.7840672\n",
            "          w_pop_2019       0.0000207       0.0000037       5.6090899       0.0000000\n",
            "w_per_capita_income_2019      -0.0001148       0.0001063      -1.0801393       0.2800802\n",
            "        w_metro_2013      -4.5183985       1.6854575      -2.6808142       0.0073443\n",
            "               w_ghi       1.8750755       0.7207929       2.6014066       0.0092842\n",
            "          California      63.0400460      21.7398440       2.8997469       0.0037346\n",
            "      North Carolina      21.1979481      11.8388734       1.7905376       0.0733675\n",
            "              Nevada     116.8491836      28.9387072       4.0378163       0.0000540\n",
            "             Arizona     -23.4749810      31.8640886      -0.7367222       0.4612913\n",
            "               Texas     -17.3763386       9.4577080      -1.8372674       0.0661704\n",
            "                Utah      20.8239754      21.4538515       0.9706404       0.3317274\n",
            "             Florida     -28.6045462      15.3343830      -1.8653862       0.0621273\n",
            "             Georgia      -6.3999113      10.0547889      -0.6365038       0.5244481\n",
            "       Massachusetts      49.0625508      30.7047182       1.5978831       0.1100690\n",
            "            Colorado      10.2367823      15.2749574       0.6701676       0.5027509\n",
            "          New Mexico      -1.8496631      21.3245708      -0.0867386       0.9308793\n",
            "          New Jersey      18.0652009      25.4047774       0.7110946       0.4770256\n",
            "           Minnesota      21.0102238      12.7467351       1.6482828       0.0992947\n",
            "               Idaho       4.6485783      17.1451767       0.2711304       0.7862908\n",
            "            Virginia      19.5923981      10.6270062       1.8436423       0.0652353\n",
            "            New York      -5.7284511      14.8339770      -0.3861710       0.6993701\n",
            "      South Carolina     -12.2698947      17.1609094      -0.7149909       0.4746146\n",
            "              Oregon       5.8568904      18.9360111       0.3092991       0.7570940\n",
            "            Maryland      17.9556497      23.5267836       0.7632004       0.4453439\n",
            "             Alabama     -10.9577408      14.4374012      -0.7589829       0.4478628\n",
            "       W_capacity_mw       0.4736470       0.0481660       9.8336428       0.0000000\n",
            "------------------------------------------------------------------------------------\n",
            "Instrumented: W_capacity_mw\n",
            "Instruments: W_Alabama, W_Arizona, W_California, W_Colorado, W_Florida,\n",
            "             W_Georgia, W_Idaho, W_Maryland, W_Massachusetts, W_Minnesota,\n",
            "             W_Nevada, W_New Jersey, W_New Mexico, W_New York, W_North\n",
            "             Carolina, W_Oregon, W_South Carolina, W_Texas, W_Utah,\n",
            "             W_Virginia, W_ghi, W_metro_2013, W_per_capita_income_2019,\n",
            "             W_pop_2019, W_w_ghi, W_w_metro_2013,\n",
            "             W_w_per_capita_income_2019, W_w_pop_2019\n",
            "\n",
            "DIAGNOSTICS FOR SPATIAL DEPENDENCE\n",
            "TEST                           MI/DF       VALUE           PROB\n",
            "Anselin-Kelejian Test             1          19.727          0.0000\n",
            "================================ END OF REPORT =====================================\n"
          ]
        }
      ]
    },
    {
      "cell_type": "code",
      "metadata": {
        "colab": {
          "base_uri": "https://localhost:8080/"
        },
        "id": "KxTj1qKv3EWM",
        "outputId": "f7ccdb69-cc9b-4f74-cc6e-a5acf6eaff51"
      },
      "source": [
        "mses = pd.Series({'OLS': mse(Y, m2.predy.flatten()),\n",
        "                  'OLS+W':mse(Y, m3.predy.flatten()),\n",
        "                  'OLS+W+fixed-eff': mse(Y, m4.predy.flatten()),\n",
        "                  'Lag':mse(Y, m5.predy_e.flatten()),\n",
        "                    })\n",
        "mses.sort_values()"
      ],
      "execution_count": null,
      "outputs": [
        {
          "output_type": "execute_result",
          "data": {
            "text/plain": [
              "OLS+W+fixed-eff    13987.838132\n",
              "Lag                14149.391826\n",
              "OLS+W              15015.822311\n",
              "OLS                16636.708274\n",
              "dtype: float64"
            ]
          },
          "metadata": {},
          "execution_count": 164
        }
      ]
    },
    {
      "cell_type": "code",
      "metadata": {
        "id": "66-q_JAO4Men"
      },
      "source": [
        ""
      ],
      "execution_count": null,
      "outputs": []
    }
  ]
}